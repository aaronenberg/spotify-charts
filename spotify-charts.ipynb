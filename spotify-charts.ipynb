{
 "cells": [
  {
   "cell_type": "markdown",
   "metadata": {},
   "source": [
    "## CSUS - CSc 177-02 Data Warehousing and Data Mining - Final Project:   \n",
    "### 2016 U.S. presidential election Twitter analysis  \n",
    "\n",
    "**Group members: Aaron Enberg, Nima Sarrafzadeh, Kyne Liu**  \n",
    "**Professor: Haiquan (Victor) Chen**"
   ]
  },
  {
   "cell_type": "code",
   "execution_count": 50,
   "metadata": {},
   "outputs": [],
   "source": [
    "from collections import Counter\n",
    "import pandas as pd\n",
    "import numpy as np\n",
    "import matplotlib.pyplot as plt\n",
    "from sklearn import (\n",
    "    preprocessing,  \n",
    "    cluster as sk_cluster,\n",
    "    metrics\n",
    ")\n",
    "from sklearn.metrics import classification_report\n",
    "from imblearn.pipeline import make_pipeline, Pipeline\n",
    "from imblearn.over_sampling import SMOTE, ADASYN\n",
    "from imblearn.under_sampling import (\n",
    "    RandomUnderSampler, \n",
    "    NearMiss, \n",
    "    EditedNearestNeighbours, \n",
    "    RepeatedEditedNearestNeighbours,\n",
    "    CondensedNearestNeighbour,\n",
    "    NeighbourhoodCleaningRule,\n",
    "    OneSidedSelection,\n",
    "    AllKNN,\n",
    "    TomekLinks\n",
    ")\n",
    "from imblearn.combine import SMOTEENN\n",
    "from imblearn.ensemble import EasyEnsemble, BalanceCascade\n",
    "from sklearn.decomposition import PCA\n",
    "from sklearn.ensemble import RandomForestClassifier\n",
    "from sklearn.feature_selection import VarianceThreshold\n",
    "from sklearn.svm import SVC, LinearSVC\n",
    "from sklearn.tree import DecisionTreeClassifier\n",
    "from sklearn.neighbors import KNeighborsClassifier\n",
    "from sklearn.linear_model import LogisticRegression\n",
    "from sklearn.preprocessing import MultiLabelBinarizer\n",
    "from sklearn.model_selection import (\n",
    "    cross_val_score,\n",
    "    train_test_split,\n",
    "    GridSearchCV,\n",
    "    StratifiedKFold\n",
    ")\n",
    "import sklearn.feature_extraction.text as sk_text\n",
    "import gc\n",
    "\n",
    "%matplotlib inline\n",
    "\n",
    "pd.set_option('display.max_colwidth', -1)"
   ]
  },
  {
   "cell_type": "code",
   "execution_count": 3,
   "metadata": {},
   "outputs": [],
   "source": [
    "daily_spotify = pd.read_csv('./data/data.csv')\n",
    "daily_spotify.columns = ['position', 'track_name', 'artist', 'streams', 'url', 'date', 'region']"
   ]
  },
  {
   "cell_type": "code",
   "execution_count": 4,
   "metadata": {},
   "outputs": [
    {
     "name": "stdout",
     "output_type": "stream",
     "text": [
      "(3441197, 7)\n",
      "position      int64 \n",
      "track_name    object\n",
      "artist        object\n",
      "streams       int64 \n",
      "url           object\n",
      "date          object\n",
      "region        object\n",
      "dtype: object\n"
     ]
    }
   ],
   "source": [
    "print(daily_spotify.shape)\n",
    "print(daily_spotify.dtypes)"
   ]
  },
  {
   "cell_type": "code",
   "execution_count": 5,
   "metadata": {},
   "outputs": [
    {
     "data": {
      "text/html": [
       "<div>\n",
       "<style scoped>\n",
       "    .dataframe tbody tr th:only-of-type {\n",
       "        vertical-align: middle;\n",
       "    }\n",
       "\n",
       "    .dataframe tbody tr th {\n",
       "        vertical-align: top;\n",
       "    }\n",
       "\n",
       "    .dataframe thead th {\n",
       "        text-align: right;\n",
       "    }\n",
       "</style>\n",
       "<table border=\"1\" class=\"dataframe\">\n",
       "  <thead>\n",
       "    <tr style=\"text-align: right;\">\n",
       "      <th></th>\n",
       "      <th>position</th>\n",
       "      <th>track_name</th>\n",
       "      <th>artist</th>\n",
       "      <th>streams</th>\n",
       "      <th>url</th>\n",
       "      <th>date</th>\n",
       "      <th>region</th>\n",
       "    </tr>\n",
       "  </thead>\n",
       "  <tbody>\n",
       "    <tr>\n",
       "      <th>0</th>\n",
       "      <td>1</td>\n",
       "      <td>Reggaetón Lento (Bailemos)</td>\n",
       "      <td>CNCO</td>\n",
       "      <td>19272</td>\n",
       "      <td>https://open.spotify.com/track/3AEZUABDXNtecAOSC1qTfo</td>\n",
       "      <td>2017-01-01</td>\n",
       "      <td>ec</td>\n",
       "    </tr>\n",
       "    <tr>\n",
       "      <th>1</th>\n",
       "      <td>2</td>\n",
       "      <td>Chantaje</td>\n",
       "      <td>Shakira</td>\n",
       "      <td>19270</td>\n",
       "      <td>https://open.spotify.com/track/6mICuAdrwEjh6Y6lroV2Kg</td>\n",
       "      <td>2017-01-01</td>\n",
       "      <td>ec</td>\n",
       "    </tr>\n",
       "    <tr>\n",
       "      <th>2</th>\n",
       "      <td>3</td>\n",
       "      <td>Otra Vez (feat. J Balvin)</td>\n",
       "      <td>Zion &amp; Lennox</td>\n",
       "      <td>15761</td>\n",
       "      <td>https://open.spotify.com/track/3QwBODjSEzelZyVjxPOHdq</td>\n",
       "      <td>2017-01-01</td>\n",
       "      <td>ec</td>\n",
       "    </tr>\n",
       "    <tr>\n",
       "      <th>3</th>\n",
       "      <td>4</td>\n",
       "      <td>Vente Pa' Ca</td>\n",
       "      <td>Ricky Martin</td>\n",
       "      <td>14954</td>\n",
       "      <td>https://open.spotify.com/track/7DM4BPaS7uofFul3ywMe46</td>\n",
       "      <td>2017-01-01</td>\n",
       "      <td>ec</td>\n",
       "    </tr>\n",
       "    <tr>\n",
       "      <th>4</th>\n",
       "      <td>5</td>\n",
       "      <td>Safari</td>\n",
       "      <td>J Balvin</td>\n",
       "      <td>14269</td>\n",
       "      <td>https://open.spotify.com/track/6rQSrBHf7HlZjtcMZ4S4bO</td>\n",
       "      <td>2017-01-01</td>\n",
       "      <td>ec</td>\n",
       "    </tr>\n",
       "  </tbody>\n",
       "</table>\n",
       "</div>"
      ],
      "text/plain": [
       "   position                  track_name         artist  streams  \\\n",
       "0  1         Reggaetón Lento (Bailemos)  CNCO           19272     \n",
       "1  2         Chantaje                    Shakira        19270     \n",
       "2  3         Otra Vez (feat. J Balvin)   Zion & Lennox  15761     \n",
       "3  4         Vente Pa' Ca                Ricky Martin   14954     \n",
       "4  5         Safari                      J Balvin       14269     \n",
       "\n",
       "                                                     url        date region  \n",
       "0  https://open.spotify.com/track/3AEZUABDXNtecAOSC1qTfo  2017-01-01  ec     \n",
       "1  https://open.spotify.com/track/6mICuAdrwEjh6Y6lroV2Kg  2017-01-01  ec     \n",
       "2  https://open.spotify.com/track/3QwBODjSEzelZyVjxPOHdq  2017-01-01  ec     \n",
       "3  https://open.spotify.com/track/7DM4BPaS7uofFul3ywMe46  2017-01-01  ec     \n",
       "4  https://open.spotify.com/track/6rQSrBHf7HlZjtcMZ4S4bO  2017-01-01  ec     "
      ]
     },
     "execution_count": 5,
     "metadata": {},
     "output_type": "execute_result"
    }
   ],
   "source": [
    "daily_spotify.head()"
   ]
  },
  {
   "cell_type": "code",
   "execution_count": 6,
   "metadata": {},
   "outputs": [],
   "source": [
    "# keep only chart data from 2017\n",
    "#daily_spotify = daily_spotify[(daily_spotify['date'] < '2018-01-01')]"
   ]
  },
  {
   "cell_type": "code",
   "execution_count": 7,
   "metadata": {},
   "outputs": [
    {
     "data": {
      "text/plain": [
       "21746"
      ]
     },
     "execution_count": 7,
     "metadata": {},
     "output_type": "execute_result"
    }
   ],
   "source": [
    "daily_spotify['url'].nunique()"
   ]
  },
  {
   "cell_type": "code",
   "execution_count": 8,
   "metadata": {},
   "outputs": [
    {
     "data": {
      "text/plain": [
       "array(['ec', 'fr', 'ar', 'fi', 'no', 'it', 'lt', 'ph', 'tw', 'nz', 'ee',\n",
       "       'tr', 'us', 'sv', 'cr', 'de', 'cl', 'jp', 'br', 'hn', 'gt', 'ch',\n",
       "       'hu', 'ca', 'pe', 'be', 'my', 'dk', 'bo', 'pl', 'at', 'pt', 'se',\n",
       "       'mx', 'pa', 'uy', 'is', 'es', 'cz', 'ie', 'nl', 'sk', 'co', 'sg',\n",
       "       'id', 'do', 'lu', 'gb', 'global', 'py', 'au', 'lv', 'gr', 'hk'],\n",
       "      dtype=object)"
      ]
     },
     "execution_count": 8,
     "metadata": {},
     "output_type": "execute_result"
    }
   ],
   "source": [
    "daily_spotify['region'].unique()"
   ]
  },
  {
   "cell_type": "code",
   "execution_count": 9,
   "metadata": {},
   "outputs": [],
   "source": [
    "#df = daily_spotify.groupby(['track_name', 'artist'])['region'].unique().to_frame()"
   ]
  },
  {
   "cell_type": "code",
   "execution_count": 10,
   "metadata": {},
   "outputs": [],
   "source": [
    "#mlb = MultiLabelBinarizer()\n",
    "#df = df.join(pd.DataFrame(mlb.fit_transform(df.pop('region')),\n",
    "#                          columns=mlb.classes_,\n",
    "#                          index=df.index))"
   ]
  },
  {
   "cell_type": "code",
   "execution_count": 11,
   "metadata": {},
   "outputs": [],
   "source": [
    "#daily_spotify.groupby(['track_name', 'artist'])['streams'].apply(sum).to_frame()"
   ]
  },
  {
   "cell_type": "code",
   "execution_count": 12,
   "metadata": {},
   "outputs": [],
   "source": [
    "df_streams_by_country = daily_spotify.groupby(['track_name', 'artist', 'region', 'position', 'date'], as_index=False)['streams'].sum()"
   ]
  },
  {
   "cell_type": "code",
   "execution_count": 13,
   "metadata": {
    "scrolled": true
   },
   "outputs": [
    {
     "data": {
      "text/html": [
       "<div>\n",
       "<style scoped>\n",
       "    .dataframe tbody tr th:only-of-type {\n",
       "        vertical-align: middle;\n",
       "    }\n",
       "\n",
       "    .dataframe tbody tr th {\n",
       "        vertical-align: top;\n",
       "    }\n",
       "\n",
       "    .dataframe thead th {\n",
       "        text-align: right;\n",
       "    }\n",
       "</style>\n",
       "<table border=\"1\" class=\"dataframe\">\n",
       "  <thead>\n",
       "    <tr style=\"text-align: right;\">\n",
       "      <th></th>\n",
       "      <th>track_name</th>\n",
       "      <th>artist</th>\n",
       "      <th>region</th>\n",
       "      <th>position</th>\n",
       "      <th>date</th>\n",
       "      <th>streams</th>\n",
       "    </tr>\n",
       "  </thead>\n",
       "  <tbody>\n",
       "    <tr>\n",
       "      <th>0</th>\n",
       "      <td>\"All That Is or Ever Was or Ever Will Be\"</td>\n",
       "      <td>Alan Silvestri</td>\n",
       "      <td>pl</td>\n",
       "      <td>185</td>\n",
       "      <td>2017-01-08</td>\n",
       "      <td>3547</td>\n",
       "    </tr>\n",
       "    <tr>\n",
       "      <th>1</th>\n",
       "      <td>\"All That Is or Ever Was or Ever Will Be\"</td>\n",
       "      <td>Alan Silvestri</td>\n",
       "      <td>tr</td>\n",
       "      <td>198</td>\n",
       "      <td>2017-01-08</td>\n",
       "      <td>3764</td>\n",
       "    </tr>\n",
       "    <tr>\n",
       "      <th>2</th>\n",
       "      <td>\"Read All About It, Pt. III\"</td>\n",
       "      <td>Emeli Sandé</td>\n",
       "      <td>be</td>\n",
       "      <td>147</td>\n",
       "      <td>2017-10-16</td>\n",
       "      <td>3330</td>\n",
       "    </tr>\n",
       "    <tr>\n",
       "      <th>3</th>\n",
       "      <td>\"Read All About It, Pt. III\"</td>\n",
       "      <td>Emeli Sandé</td>\n",
       "      <td>be</td>\n",
       "      <td>159</td>\n",
       "      <td>2017-10-23</td>\n",
       "      <td>3334</td>\n",
       "    </tr>\n",
       "    <tr>\n",
       "      <th>4</th>\n",
       "      <td>\"Read All About It, Pt. III\"</td>\n",
       "      <td>Emeli Sandé</td>\n",
       "      <td>be</td>\n",
       "      <td>182</td>\n",
       "      <td>2017-10-22</td>\n",
       "      <td>3179</td>\n",
       "    </tr>\n",
       "    <tr>\n",
       "      <th>5</th>\n",
       "      <td>\"Read All About It, Pt. III\"</td>\n",
       "      <td>Emeli Sandé</td>\n",
       "      <td>be</td>\n",
       "      <td>186</td>\n",
       "      <td>2017-10-09</td>\n",
       "      <td>3075</td>\n",
       "    </tr>\n",
       "    <tr>\n",
       "      <th>6</th>\n",
       "      <td>\"Read All About It, Pt. III\"</td>\n",
       "      <td>Emeli Sandé</td>\n",
       "      <td>be</td>\n",
       "      <td>192</td>\n",
       "      <td>2017-10-15</td>\n",
       "      <td>3053</td>\n",
       "    </tr>\n",
       "    <tr>\n",
       "      <th>7</th>\n",
       "      <td>\"Read All About It, Pt. III\"</td>\n",
       "      <td>Emeli Sandé</td>\n",
       "      <td>cz</td>\n",
       "      <td>163</td>\n",
       "      <td>2017-10-16</td>\n",
       "      <td>1527</td>\n",
       "    </tr>\n",
       "    <tr>\n",
       "      <th>8</th>\n",
       "      <td>\"Read All About It, Pt. III\"</td>\n",
       "      <td>Emeli Sandé</td>\n",
       "      <td>cz</td>\n",
       "      <td>174</td>\n",
       "      <td>2017-10-23</td>\n",
       "      <td>1458</td>\n",
       "    </tr>\n",
       "    <tr>\n",
       "      <th>9</th>\n",
       "      <td>\"Read All About It, Pt. III\"</td>\n",
       "      <td>Emeli Sandé</td>\n",
       "      <td>cz</td>\n",
       "      <td>175</td>\n",
       "      <td>2017-10-22</td>\n",
       "      <td>1310</td>\n",
       "    </tr>\n",
       "  </tbody>\n",
       "</table>\n",
       "</div>"
      ],
      "text/plain": [
       "                                  track_name          artist region  position  \\\n",
       "0  \"All That Is or Ever Was or Ever Will Be\"  Alan Silvestri  pl     185        \n",
       "1  \"All That Is or Ever Was or Ever Will Be\"  Alan Silvestri  tr     198        \n",
       "2  \"Read All About It, Pt. III\"               Emeli Sandé     be     147        \n",
       "3  \"Read All About It, Pt. III\"               Emeli Sandé     be     159        \n",
       "4  \"Read All About It, Pt. III\"               Emeli Sandé     be     182        \n",
       "5  \"Read All About It, Pt. III\"               Emeli Sandé     be     186        \n",
       "6  \"Read All About It, Pt. III\"               Emeli Sandé     be     192        \n",
       "7  \"Read All About It, Pt. III\"               Emeli Sandé     cz     163        \n",
       "8  \"Read All About It, Pt. III\"               Emeli Sandé     cz     174        \n",
       "9  \"Read All About It, Pt. III\"               Emeli Sandé     cz     175        \n",
       "\n",
       "         date  streams  \n",
       "0  2017-01-08  3547     \n",
       "1  2017-01-08  3764     \n",
       "2  2017-10-16  3330     \n",
       "3  2017-10-23  3334     \n",
       "4  2017-10-22  3179     \n",
       "5  2017-10-09  3075     \n",
       "6  2017-10-15  3053     \n",
       "7  2017-10-16  1527     \n",
       "8  2017-10-23  1458     \n",
       "9  2017-10-22  1310     "
      ]
     },
     "execution_count": 13,
     "metadata": {},
     "output_type": "execute_result"
    }
   ],
   "source": [
    "df_streams_by_country.head(n=10)"
   ]
  },
  {
   "cell_type": "code",
   "execution_count": 14,
   "metadata": {},
   "outputs": [],
   "source": [
    "df = df_streams_by_country.pivot_table(index=['track_name', 'artist'], columns='region', values='streams', aggfunc=sum, fill_value=0)"
   ]
  },
  {
   "cell_type": "code",
   "execution_count": 15,
   "metadata": {},
   "outputs": [],
   "source": [
    "df.reset_index(level=[0,1], inplace=True)"
   ]
  },
  {
   "cell_type": "code",
   "execution_count": 16,
   "metadata": {},
   "outputs": [],
   "source": [
    "df['track_name_by_artist'] = df.track_name.str.cat(df.artist, sep=' ')"
   ]
  },
  {
   "cell_type": "code",
   "execution_count": 17,
   "metadata": {},
   "outputs": [],
   "source": [
    "df.drop(['track_name', 'artist'], axis=1, inplace=True)"
   ]
  },
  {
   "cell_type": "code",
   "execution_count": 18,
   "metadata": {},
   "outputs": [],
   "source": [
    "labels, levels = pd.factorize(df.track_name_by_artist)\n"
   ]
  },
  {
   "cell_type": "code",
   "execution_count": 19,
   "metadata": {},
   "outputs": [],
   "source": [
    "df_streams_by_country['top10'] = np.where(df_streams_by_country['position'] <= 10, 1, 0)"
   ]
  },
  {
   "cell_type": "code",
   "execution_count": 20,
   "metadata": {},
   "outputs": [
    {
     "data": {
      "text/plain": [
       "0    3244032\n",
       "1    196508 \n",
       "Name: top10, dtype: int64"
      ]
     },
     "execution_count": 20,
     "metadata": {},
     "output_type": "execute_result"
    }
   ],
   "source": [
    "df_streams_by_country['top10'].value_counts()"
   ]
  },
  {
   "cell_type": "code",
   "execution_count": 21,
   "metadata": {},
   "outputs": [],
   "source": [
    "df_top10 = df_streams_by_country.drop_duplicates(['track_name', 'artist', 'top10'])"
   ]
  },
  {
   "cell_type": "code",
   "execution_count": 22,
   "metadata": {},
   "outputs": [],
   "source": [
    "df_top10 = df_top10.sort_values(['track_name', 'artist', 'top10'])"
   ]
  },
  {
   "cell_type": "code",
   "execution_count": 23,
   "metadata": {},
   "outputs": [],
   "source": [
    "df_top10.drop_duplicates(['track_name', 'artist'], keep='last', inplace=True)"
   ]
  },
  {
   "cell_type": "code",
   "execution_count": 24,
   "metadata": {},
   "outputs": [
    {
     "data": {
      "text/plain": [
       "0    18576\n",
       "1    1346 \n",
       "Name: top10, dtype: int64"
      ]
     },
     "execution_count": 24,
     "metadata": {},
     "output_type": "execute_result"
    }
   ],
   "source": [
    "df_top10['top10'].value_counts()"
   ]
  },
  {
   "cell_type": "code",
   "execution_count": 25,
   "metadata": {},
   "outputs": [],
   "source": [
    "df_top10.reset_index(level=0, drop=True, inplace=True)\n",
    "df_top10.drop(['track_name', 'artist', 'region', 'position', 'date', 'streams'], axis=1, inplace=True)"
   ]
  },
  {
   "cell_type": "code",
   "execution_count": 26,
   "metadata": {},
   "outputs": [
    {
     "data": {
      "text/html": [
       "<div>\n",
       "<style scoped>\n",
       "    .dataframe tbody tr th:only-of-type {\n",
       "        vertical-align: middle;\n",
       "    }\n",
       "\n",
       "    .dataframe tbody tr th {\n",
       "        vertical-align: top;\n",
       "    }\n",
       "\n",
       "    .dataframe thead th {\n",
       "        text-align: right;\n",
       "    }\n",
       "</style>\n",
       "<table border=\"1\" class=\"dataframe\">\n",
       "  <thead>\n",
       "    <tr style=\"text-align: right;\">\n",
       "      <th></th>\n",
       "      <th>top10</th>\n",
       "    </tr>\n",
       "  </thead>\n",
       "  <tbody>\n",
       "    <tr>\n",
       "      <th>0</th>\n",
       "      <td>0</td>\n",
       "    </tr>\n",
       "    <tr>\n",
       "      <th>1</th>\n",
       "      <td>0</td>\n",
       "    </tr>\n",
       "    <tr>\n",
       "      <th>2</th>\n",
       "      <td>0</td>\n",
       "    </tr>\n",
       "    <tr>\n",
       "      <th>3</th>\n",
       "      <td>0</td>\n",
       "    </tr>\n",
       "    <tr>\n",
       "      <th>4</th>\n",
       "      <td>0</td>\n",
       "    </tr>\n",
       "  </tbody>\n",
       "</table>\n",
       "</div>"
      ],
      "text/plain": [
       "   top10\n",
       "0  0    \n",
       "1  0    \n",
       "2  0    \n",
       "3  0    \n",
       "4  0    "
      ]
     },
     "execution_count": 26,
     "metadata": {},
     "output_type": "execute_result"
    }
   ],
   "source": [
    "df_top10.head()"
   ]
  },
  {
   "cell_type": "code",
   "execution_count": 27,
   "metadata": {},
   "outputs": [
    {
     "data": {
      "text/html": [
       "<div>\n",
       "<style scoped>\n",
       "    .dataframe tbody tr th:only-of-type {\n",
       "        vertical-align: middle;\n",
       "    }\n",
       "\n",
       "    .dataframe tbody tr th {\n",
       "        vertical-align: top;\n",
       "    }\n",
       "\n",
       "    .dataframe thead th {\n",
       "        text-align: right;\n",
       "    }\n",
       "</style>\n",
       "<table border=\"1\" class=\"dataframe\">\n",
       "  <thead>\n",
       "    <tr style=\"text-align: right;\">\n",
       "      <th>region</th>\n",
       "      <th>ar</th>\n",
       "      <th>at</th>\n",
       "      <th>au</th>\n",
       "      <th>be</th>\n",
       "      <th>bo</th>\n",
       "      <th>br</th>\n",
       "      <th>ca</th>\n",
       "      <th>ch</th>\n",
       "      <th>cl</th>\n",
       "      <th>co</th>\n",
       "      <th>...</th>\n",
       "      <th>py</th>\n",
       "      <th>se</th>\n",
       "      <th>sg</th>\n",
       "      <th>sk</th>\n",
       "      <th>sv</th>\n",
       "      <th>tr</th>\n",
       "      <th>tw</th>\n",
       "      <th>us</th>\n",
       "      <th>uy</th>\n",
       "      <th>track_name_by_artist</th>\n",
       "    </tr>\n",
       "  </thead>\n",
       "  <tbody>\n",
       "    <tr>\n",
       "      <th>0</th>\n",
       "      <td>0</td>\n",
       "      <td>0</td>\n",
       "      <td>0</td>\n",
       "      <td>0</td>\n",
       "      <td>0</td>\n",
       "      <td>0</td>\n",
       "      <td>0</td>\n",
       "      <td>0</td>\n",
       "      <td>0</td>\n",
       "      <td>0</td>\n",
       "      <td>...</td>\n",
       "      <td>0</td>\n",
       "      <td>0</td>\n",
       "      <td>0</td>\n",
       "      <td>0</td>\n",
       "      <td>0</td>\n",
       "      <td>3764</td>\n",
       "      <td>0</td>\n",
       "      <td>0</td>\n",
       "      <td>0</td>\n",
       "      <td>\"All That Is or Ever Was or Ever Will Be\" Alan Silvestri</td>\n",
       "    </tr>\n",
       "    <tr>\n",
       "      <th>1</th>\n",
       "      <td>0</td>\n",
       "      <td>0</td>\n",
       "      <td>0</td>\n",
       "      <td>15971</td>\n",
       "      <td>0</td>\n",
       "      <td>0</td>\n",
       "      <td>0</td>\n",
       "      <td>0</td>\n",
       "      <td>0</td>\n",
       "      <td>0</td>\n",
       "      <td>...</td>\n",
       "      <td>0</td>\n",
       "      <td>17307</td>\n",
       "      <td>0</td>\n",
       "      <td>0</td>\n",
       "      <td>0</td>\n",
       "      <td>0</td>\n",
       "      <td>0</td>\n",
       "      <td>0</td>\n",
       "      <td>0</td>\n",
       "      <td>\"Read All About It, Pt. III\" Emeli Sandé</td>\n",
       "    </tr>\n",
       "    <tr>\n",
       "      <th>2</th>\n",
       "      <td>0</td>\n",
       "      <td>0</td>\n",
       "      <td>0</td>\n",
       "      <td>0</td>\n",
       "      <td>0</td>\n",
       "      <td>0</td>\n",
       "      <td>0</td>\n",
       "      <td>0</td>\n",
       "      <td>0</td>\n",
       "      <td>0</td>\n",
       "      <td>...</td>\n",
       "      <td>0</td>\n",
       "      <td>0</td>\n",
       "      <td>0</td>\n",
       "      <td>0</td>\n",
       "      <td>0</td>\n",
       "      <td>0</td>\n",
       "      <td>0</td>\n",
       "      <td>0</td>\n",
       "      <td>0</td>\n",
       "      <td>#99 JVG</td>\n",
       "    </tr>\n",
       "    <tr>\n",
       "      <th>3</th>\n",
       "      <td>0</td>\n",
       "      <td>0</td>\n",
       "      <td>0</td>\n",
       "      <td>0</td>\n",
       "      <td>0</td>\n",
       "      <td>0</td>\n",
       "      <td>0</td>\n",
       "      <td>0</td>\n",
       "      <td>0</td>\n",
       "      <td>0</td>\n",
       "      <td>...</td>\n",
       "      <td>0</td>\n",
       "      <td>0</td>\n",
       "      <td>0</td>\n",
       "      <td>0</td>\n",
       "      <td>0</td>\n",
       "      <td>0</td>\n",
       "      <td>0</td>\n",
       "      <td>0</td>\n",
       "      <td>0</td>\n",
       "      <td>#Askip Black M</td>\n",
       "    </tr>\n",
       "    <tr>\n",
       "      <th>4</th>\n",
       "      <td>0</td>\n",
       "      <td>0</td>\n",
       "      <td>0</td>\n",
       "      <td>0</td>\n",
       "      <td>0</td>\n",
       "      <td>0</td>\n",
       "      <td>0</td>\n",
       "      <td>0</td>\n",
       "      <td>0</td>\n",
       "      <td>0</td>\n",
       "      <td>...</td>\n",
       "      <td>0</td>\n",
       "      <td>0</td>\n",
       "      <td>0</td>\n",
       "      <td>0</td>\n",
       "      <td>0</td>\n",
       "      <td>403591</td>\n",
       "      <td>0</td>\n",
       "      <td>0</td>\n",
       "      <td>0</td>\n",
       "      <td>#Biziz - feat. Lil Bege Reynmen</td>\n",
       "    </tr>\n",
       "  </tbody>\n",
       "</table>\n",
       "<p>5 rows × 55 columns</p>\n",
       "</div>"
      ],
      "text/plain": [
       "region  ar  at  au     be  bo  br  ca  ch  cl  co  \\\n",
       "0       0   0   0   0      0   0   0   0   0   0    \n",
       "1       0   0   0   15971  0   0   0   0   0   0    \n",
       "2       0   0   0   0      0   0   0   0   0   0    \n",
       "3       0   0   0   0      0   0   0   0   0   0    \n",
       "4       0   0   0   0      0   0   0   0   0   0    \n",
       "\n",
       "region                            ...                             py     se  \\\n",
       "0                                 ...                             0   0       \n",
       "1                                 ...                             0   17307   \n",
       "2                                 ...                             0   0       \n",
       "3                                 ...                             0   0       \n",
       "4                                 ...                             0   0       \n",
       "\n",
       "region  sg  sk  sv      tr  tw  us  uy  \\\n",
       "0       0   0   0   3764    0   0   0    \n",
       "1       0   0   0   0       0   0   0    \n",
       "2       0   0   0   0       0   0   0    \n",
       "3       0   0   0   0       0   0   0    \n",
       "4       0   0   0   403591  0   0   0    \n",
       "\n",
       "region                                      track_name_by_artist  \n",
       "0       \"All That Is or Ever Was or Ever Will Be\" Alan Silvestri  \n",
       "1       \"Read All About It, Pt. III\" Emeli Sandé                  \n",
       "2       #99 JVG                                                   \n",
       "3       #Askip Black M                                            \n",
       "4       #Biziz - feat. Lil Bege Reynmen                           \n",
       "\n",
       "[5 rows x 55 columns]"
      ]
     },
     "execution_count": 27,
     "metadata": {},
     "output_type": "execute_result"
    }
   ],
   "source": [
    "df.head()"
   ]
  },
  {
   "cell_type": "code",
   "execution_count": 28,
   "metadata": {},
   "outputs": [],
   "source": [
    "df.set_index('track_name_by_artist', inplace=True)"
   ]
  },
  {
   "cell_type": "code",
   "execution_count": 29,
   "metadata": {},
   "outputs": [
    {
     "data": {
      "text/html": [
       "<div>\n",
       "<style scoped>\n",
       "    .dataframe tbody tr th:only-of-type {\n",
       "        vertical-align: middle;\n",
       "    }\n",
       "\n",
       "    .dataframe tbody tr th {\n",
       "        vertical-align: top;\n",
       "    }\n",
       "\n",
       "    .dataframe thead th {\n",
       "        text-align: right;\n",
       "    }\n",
       "</style>\n",
       "<table border=\"1\" class=\"dataframe\">\n",
       "  <thead>\n",
       "    <tr style=\"text-align: right;\">\n",
       "      <th>region</th>\n",
       "      <th>ar</th>\n",
       "      <th>at</th>\n",
       "      <th>au</th>\n",
       "      <th>be</th>\n",
       "      <th>bo</th>\n",
       "      <th>br</th>\n",
       "      <th>ca</th>\n",
       "      <th>ch</th>\n",
       "      <th>cl</th>\n",
       "      <th>co</th>\n",
       "      <th>...</th>\n",
       "      <th>pt</th>\n",
       "      <th>py</th>\n",
       "      <th>se</th>\n",
       "      <th>sg</th>\n",
       "      <th>sk</th>\n",
       "      <th>sv</th>\n",
       "      <th>tr</th>\n",
       "      <th>tw</th>\n",
       "      <th>us</th>\n",
       "      <th>uy</th>\n",
       "    </tr>\n",
       "    <tr>\n",
       "      <th>track_name_by_artist</th>\n",
       "      <th></th>\n",
       "      <th></th>\n",
       "      <th></th>\n",
       "      <th></th>\n",
       "      <th></th>\n",
       "      <th></th>\n",
       "      <th></th>\n",
       "      <th></th>\n",
       "      <th></th>\n",
       "      <th></th>\n",
       "      <th></th>\n",
       "      <th></th>\n",
       "      <th></th>\n",
       "      <th></th>\n",
       "      <th></th>\n",
       "      <th></th>\n",
       "      <th></th>\n",
       "      <th></th>\n",
       "      <th></th>\n",
       "      <th></th>\n",
       "      <th></th>\n",
       "    </tr>\n",
       "  </thead>\n",
       "  <tbody>\n",
       "    <tr>\n",
       "      <th>\"All That Is or Ever Was or Ever Will Be\" Alan Silvestri</th>\n",
       "      <td>0</td>\n",
       "      <td>0</td>\n",
       "      <td>0</td>\n",
       "      <td>0</td>\n",
       "      <td>0</td>\n",
       "      <td>0</td>\n",
       "      <td>0</td>\n",
       "      <td>0</td>\n",
       "      <td>0</td>\n",
       "      <td>0</td>\n",
       "      <td>...</td>\n",
       "      <td>0</td>\n",
       "      <td>0</td>\n",
       "      <td>0</td>\n",
       "      <td>0</td>\n",
       "      <td>0</td>\n",
       "      <td>0</td>\n",
       "      <td>3764</td>\n",
       "      <td>0</td>\n",
       "      <td>0</td>\n",
       "      <td>0</td>\n",
       "    </tr>\n",
       "    <tr>\n",
       "      <th>\"Read All About It, Pt. III\" Emeli Sandé</th>\n",
       "      <td>0</td>\n",
       "      <td>0</td>\n",
       "      <td>0</td>\n",
       "      <td>15971</td>\n",
       "      <td>0</td>\n",
       "      <td>0</td>\n",
       "      <td>0</td>\n",
       "      <td>0</td>\n",
       "      <td>0</td>\n",
       "      <td>0</td>\n",
       "      <td>...</td>\n",
       "      <td>0</td>\n",
       "      <td>0</td>\n",
       "      <td>17307</td>\n",
       "      <td>0</td>\n",
       "      <td>0</td>\n",
       "      <td>0</td>\n",
       "      <td>0</td>\n",
       "      <td>0</td>\n",
       "      <td>0</td>\n",
       "      <td>0</td>\n",
       "    </tr>\n",
       "    <tr>\n",
       "      <th>#99 JVG</th>\n",
       "      <td>0</td>\n",
       "      <td>0</td>\n",
       "      <td>0</td>\n",
       "      <td>0</td>\n",
       "      <td>0</td>\n",
       "      <td>0</td>\n",
       "      <td>0</td>\n",
       "      <td>0</td>\n",
       "      <td>0</td>\n",
       "      <td>0</td>\n",
       "      <td>...</td>\n",
       "      <td>0</td>\n",
       "      <td>0</td>\n",
       "      <td>0</td>\n",
       "      <td>0</td>\n",
       "      <td>0</td>\n",
       "      <td>0</td>\n",
       "      <td>0</td>\n",
       "      <td>0</td>\n",
       "      <td>0</td>\n",
       "      <td>0</td>\n",
       "    </tr>\n",
       "    <tr>\n",
       "      <th>#Askip Black M</th>\n",
       "      <td>0</td>\n",
       "      <td>0</td>\n",
       "      <td>0</td>\n",
       "      <td>0</td>\n",
       "      <td>0</td>\n",
       "      <td>0</td>\n",
       "      <td>0</td>\n",
       "      <td>0</td>\n",
       "      <td>0</td>\n",
       "      <td>0</td>\n",
       "      <td>...</td>\n",
       "      <td>0</td>\n",
       "      <td>0</td>\n",
       "      <td>0</td>\n",
       "      <td>0</td>\n",
       "      <td>0</td>\n",
       "      <td>0</td>\n",
       "      <td>0</td>\n",
       "      <td>0</td>\n",
       "      <td>0</td>\n",
       "      <td>0</td>\n",
       "    </tr>\n",
       "    <tr>\n",
       "      <th>#Biziz - feat. Lil Bege Reynmen</th>\n",
       "      <td>0</td>\n",
       "      <td>0</td>\n",
       "      <td>0</td>\n",
       "      <td>0</td>\n",
       "      <td>0</td>\n",
       "      <td>0</td>\n",
       "      <td>0</td>\n",
       "      <td>0</td>\n",
       "      <td>0</td>\n",
       "      <td>0</td>\n",
       "      <td>...</td>\n",
       "      <td>0</td>\n",
       "      <td>0</td>\n",
       "      <td>0</td>\n",
       "      <td>0</td>\n",
       "      <td>0</td>\n",
       "      <td>0</td>\n",
       "      <td>403591</td>\n",
       "      <td>0</td>\n",
       "      <td>0</td>\n",
       "      <td>0</td>\n",
       "    </tr>\n",
       "  </tbody>\n",
       "</table>\n",
       "<p>5 rows × 54 columns</p>\n",
       "</div>"
      ],
      "text/plain": [
       "region                                                    ar  at  au     be  \\\n",
       "track_name_by_artist                                                          \n",
       "\"All That Is or Ever Was or Ever Will Be\" Alan Silvestri  0   0   0   0       \n",
       "\"Read All About It, Pt. III\" Emeli Sandé                  0   0   0   15971   \n",
       "#99 JVG                                                   0   0   0   0       \n",
       "#Askip Black M                                            0   0   0   0       \n",
       "#Biziz - feat. Lil Bege Reynmen                           0   0   0   0       \n",
       "\n",
       "region                                                    bo  br  ca  ch  cl  \\\n",
       "track_name_by_artist                                                           \n",
       "\"All That Is or Ever Was or Ever Will Be\" Alan Silvestri  0   0   0   0   0    \n",
       "\"Read All About It, Pt. III\" Emeli Sandé                  0   0   0   0   0    \n",
       "#99 JVG                                                   0   0   0   0   0    \n",
       "#Askip Black M                                            0   0   0   0   0    \n",
       "#Biziz - feat. Lil Bege Reynmen                           0   0   0   0   0    \n",
       "\n",
       "region                                                    co ...  pt  py  \\\n",
       "track_name_by_artist                                         ...           \n",
       "\"All That Is or Ever Was or Ever Will Be\" Alan Silvestri  0  ...  0   0    \n",
       "\"Read All About It, Pt. III\" Emeli Sandé                  0  ...  0   0    \n",
       "#99 JVG                                                   0  ...  0   0    \n",
       "#Askip Black M                                            0  ...  0   0    \n",
       "#Biziz - feat. Lil Bege Reynmen                           0  ...  0   0    \n",
       "\n",
       "region                                                       se  sg  sk  sv  \\\n",
       "track_name_by_artist                                                          \n",
       "\"All That Is or Ever Was or Ever Will Be\" Alan Silvestri  0      0   0   0    \n",
       "\"Read All About It, Pt. III\" Emeli Sandé                  17307  0   0   0    \n",
       "#99 JVG                                                   0      0   0   0    \n",
       "#Askip Black M                                            0      0   0   0    \n",
       "#Biziz - feat. Lil Bege Reynmen                           0      0   0   0    \n",
       "\n",
       "region                                                        tr  tw  us  uy  \n",
       "track_name_by_artist                                                          \n",
       "\"All That Is or Ever Was or Ever Will Be\" Alan Silvestri  3764    0   0   0   \n",
       "\"Read All About It, Pt. III\" Emeli Sandé                  0       0   0   0   \n",
       "#99 JVG                                                   0       0   0   0   \n",
       "#Askip Black M                                            0       0   0   0   \n",
       "#Biziz - feat. Lil Bege Reynmen                           403591  0   0   0   \n",
       "\n",
       "[5 rows x 54 columns]"
      ]
     },
     "execution_count": 29,
     "metadata": {},
     "output_type": "execute_result"
    }
   ],
   "source": [
    "df.head()"
   ]
  },
  {
   "cell_type": "code",
   "execution_count": 30,
   "metadata": {},
   "outputs": [],
   "source": [
    "y = df_top10['top10']"
   ]
  },
  {
   "cell_type": "code",
   "execution_count": 31,
   "metadata": {},
   "outputs": [
    {
     "data": {
      "text/plain": [
       "0    18576\n",
       "1    1346 \n",
       "Name: top10, dtype: int64"
      ]
     },
     "execution_count": 31,
     "metadata": {},
     "output_type": "execute_result"
    }
   ],
   "source": [
    "y.value_counts()"
   ]
  },
  {
   "cell_type": "code",
   "execution_count": 32,
   "metadata": {},
   "outputs": [],
   "source": [
    "X_train, X_test, y_train, y_test = train_test_split(df, y, \n",
    "                                                    test_size=0.2, \n",
    "                                                    random_state=42)"
   ]
  },
  {
   "cell_type": "code",
   "execution_count": 33,
   "metadata": {},
   "outputs": [
    {
     "name": "stdout",
     "output_type": "stream",
     "text": [
      "(15937, 54)\n",
      "(3985, 54)\n",
      "(15937,)\n",
      "(3985,)\n"
     ]
    }
   ],
   "source": [
    "print(X_train.shape)\n",
    "print(X_test.shape)\n",
    "print(y_train.shape)\n",
    "print(y_test.shape)"
   ]
  },
  {
   "cell_type": "code",
   "execution_count": 34,
   "metadata": {},
   "outputs": [],
   "source": [
    "std_scaler = preprocessing.StandardScaler()\n",
    "X_train_scaled = std_scaler.fit_transform(X_train)\n",
    "X_test_scaled = std_scaler.fit_transform(X_test)"
   ]
  },
  {
   "cell_type": "code",
   "execution_count": null,
   "metadata": {},
   "outputs": [
    {
     "name": "stdout",
     "output_type": "stream",
     "text": [
      "Tested Cs [3.1250e-02 1.2500e-01 5.0000e-01 2.0000e+00 8.0000e+00 3.2000e+01\n",
      " 1.2800e+02 5.1200e+02 2.0480e+03 8.1920e+03 3.2768e+04]\n",
      "Tested gammas [3.05175781e-05 1.06268379e-04 3.70047990e-04 1.28858194e-03\n",
      " 4.48710295e-03 1.56250000e-02 5.44094102e-02 1.89464571e-01\n",
      " 6.59753955e-01 2.29739671e+00 8.00000000e+00]\n"
     ]
    }
   ],
   "source": [
    "pca = PCA(n_components=2)\n",
    "\n",
    "# Create the samplers\n",
    "enn = EditedNearestNeighbours()\n",
    "renn = RepeatedEditedNearestNeighbours()\n",
    "ak = AllKNN(ratio='auto', kind_sel='mode', n_neighbors=3)\n",
    "oss = OneSidedSelection()\n",
    "ncr = NeighbourhoodCleaningRule()\n",
    "nm = NearMiss()\n",
    "rus = RandomUnderSampler()\n",
    "# Create the classifier\n",
    "k_range = list(range(1, 20))\n",
    "params = {'n_neighbors': k_range}\n",
    "\n",
    "''' weights='distance' weight points by the inverse of their distance. \n",
    "    in this case, closer neighbors of a query point will have a greater \n",
    "    influence than neighbors which are further away. \n",
    "    p=1 manhattan distance '''\n",
    "\n",
    "knn = KNeighborsClassifier(n_neighbors=1, weights='uniform', \n",
    "                           algorithm='auto', leaf_size=30, \n",
    "                           p=1, metric='minkowski', \n",
    "                           metric_params=None, n_jobs=1)\n",
    "\n",
    "knn_grid_search_cv = GridSearchCV(knn, params, \n",
    "                                  cv=5, n_jobs=-1, \n",
    "                                  verbose=1, \n",
    "                                  scoring='f1_weighted')\n",
    "\n",
    "\n",
    "Cs = np.logspace(-5, 15, num=11, base=2.0)\n",
    "gammas = np.logspace(-15, 3, num=11, base=2.0)\n",
    "print(\"Tested Cs\", Cs)\n",
    "print(\"Tested gammas\", gammas)\n",
    "param_grid = {'C': Cs, 'gamma': gammas}\n",
    "\n",
    "# fit the model and get the separating hyperplane\n",
    "svm_grid_search_cv = GridSearchCV(SVC(kernel='rbf'), param_grid, cv=10)\n",
    "\n",
    "# Add one transformers and two samplers in the pipeline object\n",
    "\n",
    "pipeline = make_pipeline(pca, ak, svm_grid_search_cv)\n",
    "\n",
    "pipeline.fit(X_train_scaled, y_train)\n",
    "y_pred = pipeline.predict(X_test_scaled)\n",
    "\n",
    "print(classification_report(y_test, y_pred))"
   ]
  },
  {
   "cell_type": "code",
   "execution_count": 35,
   "metadata": {},
   "outputs": [],
   "source": [
    "pca = PCA(n_components=2)"
   ]
  },
  {
   "cell_type": "code",
   "execution_count": 36,
   "metadata": {},
   "outputs": [],
   "source": [
    "X_vis = pca.fit_transform(X_train_scaled)"
   ]
  },
  {
   "cell_type": "code",
   "execution_count": 43,
   "metadata": {},
   "outputs": [],
   "source": [
    "ak = AllKNN()\n",
    "X_resampled, y_resampled = ak.fit_sample(X_train_scaled, y_train)"
   ]
  },
  {
   "cell_type": "code",
   "execution_count": 44,
   "metadata": {},
   "outputs": [],
   "source": [
    "clf_smote = LinearSVC().fit(X_resampled, y_resampled)"
   ]
  },
  {
   "cell_type": "code",
   "execution_count": 45,
   "metadata": {},
   "outputs": [
    {
     "name": "stdout",
     "output_type": "stream",
     "text": [
      "Support Vector Machine classification results\n",
      "\n",
      " F1-Score \n",
      " 0.6379928315412187\n",
      "\n",
      " Precision \n",
      " 0.624561403508772\n",
      "\n",
      " Recall \n",
      " 0.652014652014652\n",
      "\n",
      " Confusion Matrix \n",
      " [[3605  107]\n",
      " [  95  178]]\n"
     ]
    }
   ],
   "source": [
    "y_pred = clf_smote.predict(X_test_scaled)\n",
    "print(\"Support Vector Machine classification results\")\n",
    "print(\"\\n F1-Score \\n\", metrics.f1_score(y_test, y_pred))\n",
    "print(\"\\n Precision \\n\", metrics.precision_score(y_test, y_pred))\n",
    "print(\"\\n Recall \\n\", metrics.recall_score(y_test, y_pred))\n",
    "print(\"\\n Confusion Matrix \\n\", metrics.confusion_matrix(y_test, y_pred))"
   ]
  },
  {
   "cell_type": "code",
   "execution_count": 104,
   "metadata": {},
   "outputs": [
    {
     "data": {
      "text/plain": [
       "SVC(C=5, cache_size=200, class_weight={0: 1, 1: 2}, coef0=0.0,\n",
       "  decision_function_shape='ovr', degree=3, gamma=0.005, kernel='rbf',\n",
       "  max_iter=-1, probability=False, random_state=42, shrinking=True,\n",
       "  tol=0.001, verbose=False)"
      ]
     },
     "execution_count": 104,
     "metadata": {},
     "output_type": "execute_result"
    }
   ],
   "source": [
    "svm_clf = SVC(C=5, kernel='rbf', degree=3, \n",
    "              gamma=.005, coef0=0.0, shrinking=True, \n",
    "              probability=False, tol=0.001, cache_size=200, \n",
    "              class_weight={0: 1, 1: 2}, verbose=False, max_iter=-1, \n",
    "              decision_function_shape='ovr', random_state=42)\n",
    "svm_clf.fit(X_train_scaled, y_train)"
   ]
  },
  {
   "cell_type": "code",
   "execution_count": 105,
   "metadata": {},
   "outputs": [
    {
     "name": "stdout",
     "output_type": "stream",
     "text": [
      "Support Vector Machine classification results\n",
      "\n",
      " F1-Score \n",
      " 0.6586826347305389\n",
      "\n",
      " Precision \n",
      " 0.7236842105263158\n",
      "\n",
      " Recall \n",
      " 0.6043956043956044\n",
      "\n",
      " Confusion Matrix \n",
      " [[3649   63]\n",
      " [ 108  165]]\n"
     ]
    }
   ],
   "source": [
    "y_pred = svm_clf.predict(X_test_scaled)\n",
    "print(\"Support Vector Machine classification results\")\n",
    "print(\"\\n F1-Score \\n\", metrics.f1_score(y_test, y_pred))\n",
    "print(\"\\n Precision \\n\", metrics.precision_score(y_test, y_pred))\n",
    "print(\"\\n Recall \\n\", metrics.recall_score(y_test, y_pred))\n",
    "print(\"\\n Confusion Matrix \\n\", metrics.confusion_matrix(y_test, y_pred))"
   ]
  },
  {
   "cell_type": "code",
   "execution_count": 47,
   "metadata": {},
   "outputs": [
    {
     "data": {
      "text/plain": [
       "LinearSVC(C=1.0, class_weight=None, dual=True, fit_intercept=True,\n",
       "     intercept_scaling=1, loss='squared_hinge', max_iter=1000,\n",
       "     multi_class='ovr', penalty='l2', random_state=None, tol=0.0001,\n",
       "     verbose=0)"
      ]
     },
     "execution_count": 47,
     "metadata": {},
     "output_type": "execute_result"
    }
   ],
   "source": [
    "linear_svm_clf = LinearSVC(penalty='l2', loss='squared_hinge', \n",
    "                           dual=True, tol=0.0001, C=1.0, \n",
    "                           multi_class='ovr', fit_intercept=True, \n",
    "                           intercept_scaling=1, class_weight=None, \n",
    "                           verbose=0, random_state=None, max_iter=1000)\n",
    "linear_svm_clf.fit(X_train_scaled, y_train)"
   ]
  },
  {
   "cell_type": "code",
   "execution_count": 48,
   "metadata": {},
   "outputs": [
    {
     "name": "stdout",
     "output_type": "stream",
     "text": [
      "Support Vector Machine classification results\n",
      "\n",
      " F1-Score \n",
      " 0.5879629629629629\n",
      "\n",
      " Precision \n",
      " 0.7987421383647799\n",
      "\n",
      " Recall \n",
      " 0.4652014652014652\n",
      "\n",
      " Confusion Matrix \n",
      " [[3680   32]\n",
      " [ 146  127]]\n"
     ]
    }
   ],
   "source": [
    "y_pred = linear_svm_clf.predict(X_test_scaled)\n",
    "print(\"Support Vector Machine classification results\")\n",
    "print(\"\\n F1-Score \\n\", metrics.f1_score(y_test, y_pred))\n",
    "print(\"\\n Precision \\n\", metrics.precision_score(y_test, y_pred))\n",
    "print(\"\\n Recall \\n\", metrics.recall_score(y_test, y_pred))\n",
    "print(\"\\n Confusion Matrix \\n\", metrics.confusion_matrix(y_test, y_pred))"
   ]
  },
  {
   "cell_type": "code",
   "execution_count": 37,
   "metadata": {},
   "outputs": [
    {
     "data": {
      "text/plain": [
       "DecisionTreeClassifier(class_weight='balanced', criterion='entropy',\n",
       "            max_depth=None, max_features=None, max_leaf_nodes=23,\n",
       "            min_impurity_decrease=0.0, min_impurity_split=None,\n",
       "            min_samples_leaf=1, min_samples_split=2,\n",
       "            min_weight_fraction_leaf=0.0, presort=False, random_state=42,\n",
       "            splitter='best')"
      ]
     },
     "execution_count": 37,
     "metadata": {},
     "output_type": "execute_result"
    }
   ],
   "source": [
    "tree_clf = DecisionTreeClassifier(criterion='entropy', \n",
    "                                  splitter='best', \n",
    "                                  max_depth=None, \n",
    "                                  min_samples_split=2, \n",
    "                                  min_samples_leaf=1, \n",
    "                                  min_weight_fraction_leaf=0.0, \n",
    "                                  max_features=None, \n",
    "                                  random_state=42, \n",
    "                                  max_leaf_nodes=23, \n",
    "                                  min_impurity_decrease=0.0, \n",
    "                                  min_impurity_split=None, \n",
    "                                  class_weight='balanced', \n",
    "                                  presort=False)\n",
    "tree_clf.fit(X_train_scaled, y_train)"
   ]
  },
  {
   "cell_type": "code",
   "execution_count": 38,
   "metadata": {},
   "outputs": [
    {
     "name": "stdout",
     "output_type": "stream",
     "text": [
      "Decision Tree classification results\n",
      "\n",
      " F1-Score \n",
      " 0.5270425776754891\n",
      "\n",
      " Precision \n",
      " 0.38422818791946306\n",
      "\n",
      " Recall \n",
      " 0.8388278388278388\n",
      "\n",
      " Confusion Matrix \n",
      " [[3345  367]\n",
      " [  44  229]]\n"
     ]
    }
   ],
   "source": [
    "y_pred = tree_clf.predict(X_test_scaled)\n",
    "print(\"Decision Tree classification results\")\n",
    "print(\"\\n F1-Score \\n\", metrics.f1_score(y_test, y_pred))\n",
    "print(\"\\n Precision \\n\", metrics.precision_score(y_test, y_pred))\n",
    "print(\"\\n Recall \\n\", metrics.recall_score(y_test, y_pred))\n",
    "print(\"\\n Confusion Matrix \\n\", metrics.confusion_matrix(y_test, y_pred))"
   ]
  },
  {
   "cell_type": "code",
   "execution_count": 39,
   "metadata": {},
   "outputs": [
    {
     "data": {
      "text/plain": [
       "LogisticRegression(C=0.0094, class_weight=None, dual=False,\n",
       "          fit_intercept=True, intercept_scaling=1, max_iter=100,\n",
       "          multi_class='ovr', n_jobs=1, penalty='l2', random_state=42,\n",
       "          solver='liblinear', tol=0.0001, verbose=0, warm_start=False)"
      ]
     },
     "execution_count": 39,
     "metadata": {},
     "output_type": "execute_result"
    }
   ],
   "source": [
    "log_reg = LogisticRegression(penalty='l2', dual=False, \n",
    "                             tol=0.0001, C=.0094, \n",
    "                             fit_intercept=True, \n",
    "                             intercept_scaling=1, \n",
    "                             class_weight=None, \n",
    "                             random_state=42, \n",
    "                             solver='liblinear', \n",
    "                             max_iter=100, \n",
    "                             multi_class='ovr', \n",
    "                             verbose=0, \n",
    "                             warm_start=False, n_jobs=1)\n",
    "log_reg.fit(X_train_scaled, y_train)"
   ]
  },
  {
   "cell_type": "code",
   "execution_count": 40,
   "metadata": {},
   "outputs": [
    {
     "name": "stdout",
     "output_type": "stream",
     "text": [
      "Logistic Regression classification results\n",
      "\n",
      " F1-Score \n",
      " 0.538095238095238\n",
      "\n",
      " Precision \n",
      " 0.7687074829931972\n",
      "\n",
      " Recall \n",
      " 0.4139194139194139\n",
      "\n",
      " Confusion Matrix \n",
      " [[3678   34]\n",
      " [ 160  113]]\n"
     ]
    }
   ],
   "source": [
    "y_pred = log_reg.predict(X_test_scaled)\n",
    "print(\"Logistic Regression classification results\")\n",
    "print(\"\\n F1-Score \\n\", metrics.f1_score(y_test, y_pred))\n",
    "print(\"\\n Precision \\n\", metrics.precision_score(y_test, y_pred))\n",
    "print(\"\\n Recall \\n\", metrics.recall_score(y_test, y_pred))\n",
    "print(\"\\n Confusion Matrix \\n\", metrics.confusion_matrix(y_test, y_pred))"
   ]
  },
  {
   "cell_type": "code",
   "execution_count": 58,
   "metadata": {
    "scrolled": true
   },
   "outputs": [
    {
     "name": "stdout",
     "output_type": "stream",
     "text": [
      "Fitting 5 folds for each of 19 candidates, totalling 95 fits\n"
     ]
    },
    {
     "ename": "KeyboardInterrupt",
     "evalue": "",
     "output_type": "error",
     "traceback": [
      "\u001b[0;31m---------------------------------------------------------------------------\u001b[0m",
      "\u001b[0;31mKeyboardInterrupt\u001b[0m                         Traceback (most recent call last)",
      "\u001b[0;32m<ipython-input-58-15ed95f41106>\u001b[0m in \u001b[0;36m<module>\u001b[0;34m()\u001b[0m\n\u001b[1;32m     17\u001b[0m                                   scoring='f1_weighted')\n\u001b[1;32m     18\u001b[0m \u001b[0;34m\u001b[0m\u001b[0m\n\u001b[0;32m---> 19\u001b[0;31m \u001b[0mknn_grid_search_cv\u001b[0m\u001b[0;34m.\u001b[0m\u001b[0mfit\u001b[0m\u001b[0;34m(\u001b[0m\u001b[0mX_train_scaled\u001b[0m\u001b[0;34m,\u001b[0m \u001b[0my_train\u001b[0m\u001b[0;34m)\u001b[0m\u001b[0;34m\u001b[0m\u001b[0m\n\u001b[0m",
      "\u001b[0;32m~/.virtualenvs/CSc177/lib/python3.5/site-packages/sklearn/model_selection/_search.py\u001b[0m in \u001b[0;36mfit\u001b[0;34m(self, X, y, groups, **fit_params)\u001b[0m\n\u001b[1;32m    637\u001b[0m                                   error_score=self.error_score)\n\u001b[1;32m    638\u001b[0m           for parameters, (train, test) in product(candidate_params,\n\u001b[0;32m--> 639\u001b[0;31m                                                    cv.split(X, y, groups)))\n\u001b[0m\u001b[1;32m    640\u001b[0m \u001b[0;34m\u001b[0m\u001b[0m\n\u001b[1;32m    641\u001b[0m         \u001b[0;31m# if one choose to see train score, \"out\" will contain train score info\u001b[0m\u001b[0;34m\u001b[0m\u001b[0;34m\u001b[0m\u001b[0m\n",
      "\u001b[0;32m~/.virtualenvs/CSc177/lib/python3.5/site-packages/sklearn/externals/joblib/parallel.py\u001b[0m in \u001b[0;36m__call__\u001b[0;34m(self, iterable)\u001b[0m\n\u001b[1;32m    787\u001b[0m                 \u001b[0;31m# consumption.\u001b[0m\u001b[0;34m\u001b[0m\u001b[0;34m\u001b[0m\u001b[0m\n\u001b[1;32m    788\u001b[0m                 \u001b[0mself\u001b[0m\u001b[0;34m.\u001b[0m\u001b[0m_iterating\u001b[0m \u001b[0;34m=\u001b[0m \u001b[0;32mFalse\u001b[0m\u001b[0;34m\u001b[0m\u001b[0m\n\u001b[0;32m--> 789\u001b[0;31m             \u001b[0mself\u001b[0m\u001b[0;34m.\u001b[0m\u001b[0mretrieve\u001b[0m\u001b[0;34m(\u001b[0m\u001b[0;34m)\u001b[0m\u001b[0;34m\u001b[0m\u001b[0m\n\u001b[0m\u001b[1;32m    790\u001b[0m             \u001b[0;31m# Make sure that we get a last message telling us we are done\u001b[0m\u001b[0;34m\u001b[0m\u001b[0;34m\u001b[0m\u001b[0m\n\u001b[1;32m    791\u001b[0m             \u001b[0melapsed_time\u001b[0m \u001b[0;34m=\u001b[0m \u001b[0mtime\u001b[0m\u001b[0;34m.\u001b[0m\u001b[0mtime\u001b[0m\u001b[0;34m(\u001b[0m\u001b[0;34m)\u001b[0m \u001b[0;34m-\u001b[0m \u001b[0mself\u001b[0m\u001b[0;34m.\u001b[0m\u001b[0m_start_time\u001b[0m\u001b[0;34m\u001b[0m\u001b[0m\n",
      "\u001b[0;32m~/.virtualenvs/CSc177/lib/python3.5/site-packages/sklearn/externals/joblib/parallel.py\u001b[0m in \u001b[0;36mretrieve\u001b[0;34m(self)\u001b[0m\n\u001b[1;32m    697\u001b[0m             \u001b[0;32mtry\u001b[0m\u001b[0;34m:\u001b[0m\u001b[0;34m\u001b[0m\u001b[0m\n\u001b[1;32m    698\u001b[0m                 \u001b[0;32mif\u001b[0m \u001b[0mgetattr\u001b[0m\u001b[0;34m(\u001b[0m\u001b[0mself\u001b[0m\u001b[0;34m.\u001b[0m\u001b[0m_backend\u001b[0m\u001b[0;34m,\u001b[0m \u001b[0;34m'supports_timeout'\u001b[0m\u001b[0;34m,\u001b[0m \u001b[0;32mFalse\u001b[0m\u001b[0;34m)\u001b[0m\u001b[0;34m:\u001b[0m\u001b[0;34m\u001b[0m\u001b[0m\n\u001b[0;32m--> 699\u001b[0;31m                     \u001b[0mself\u001b[0m\u001b[0;34m.\u001b[0m\u001b[0m_output\u001b[0m\u001b[0;34m.\u001b[0m\u001b[0mextend\u001b[0m\u001b[0;34m(\u001b[0m\u001b[0mjob\u001b[0m\u001b[0;34m.\u001b[0m\u001b[0mget\u001b[0m\u001b[0;34m(\u001b[0m\u001b[0mtimeout\u001b[0m\u001b[0;34m=\u001b[0m\u001b[0mself\u001b[0m\u001b[0;34m.\u001b[0m\u001b[0mtimeout\u001b[0m\u001b[0;34m)\u001b[0m\u001b[0;34m)\u001b[0m\u001b[0;34m\u001b[0m\u001b[0m\n\u001b[0m\u001b[1;32m    700\u001b[0m                 \u001b[0;32melse\u001b[0m\u001b[0;34m:\u001b[0m\u001b[0;34m\u001b[0m\u001b[0m\n\u001b[1;32m    701\u001b[0m                     \u001b[0mself\u001b[0m\u001b[0;34m.\u001b[0m\u001b[0m_output\u001b[0m\u001b[0;34m.\u001b[0m\u001b[0mextend\u001b[0m\u001b[0;34m(\u001b[0m\u001b[0mjob\u001b[0m\u001b[0;34m.\u001b[0m\u001b[0mget\u001b[0m\u001b[0;34m(\u001b[0m\u001b[0;34m)\u001b[0m\u001b[0;34m)\u001b[0m\u001b[0;34m\u001b[0m\u001b[0m\n",
      "\u001b[0;32m/usr/lib/python3.5/multiprocessing/pool.py\u001b[0m in \u001b[0;36mget\u001b[0;34m(self, timeout)\u001b[0m\n\u001b[1;32m    600\u001b[0m \u001b[0;34m\u001b[0m\u001b[0m\n\u001b[1;32m    601\u001b[0m     \u001b[0;32mdef\u001b[0m \u001b[0mget\u001b[0m\u001b[0;34m(\u001b[0m\u001b[0mself\u001b[0m\u001b[0;34m,\u001b[0m \u001b[0mtimeout\u001b[0m\u001b[0;34m=\u001b[0m\u001b[0;32mNone\u001b[0m\u001b[0;34m)\u001b[0m\u001b[0;34m:\u001b[0m\u001b[0;34m\u001b[0m\u001b[0m\n\u001b[0;32m--> 602\u001b[0;31m         \u001b[0mself\u001b[0m\u001b[0;34m.\u001b[0m\u001b[0mwait\u001b[0m\u001b[0;34m(\u001b[0m\u001b[0mtimeout\u001b[0m\u001b[0;34m)\u001b[0m\u001b[0;34m\u001b[0m\u001b[0m\n\u001b[0m\u001b[1;32m    603\u001b[0m         \u001b[0;32mif\u001b[0m \u001b[0;32mnot\u001b[0m \u001b[0mself\u001b[0m\u001b[0;34m.\u001b[0m\u001b[0mready\u001b[0m\u001b[0;34m(\u001b[0m\u001b[0;34m)\u001b[0m\u001b[0;34m:\u001b[0m\u001b[0;34m\u001b[0m\u001b[0m\n\u001b[1;32m    604\u001b[0m             \u001b[0;32mraise\u001b[0m \u001b[0mTimeoutError\u001b[0m\u001b[0;34m\u001b[0m\u001b[0m\n",
      "\u001b[0;32m/usr/lib/python3.5/multiprocessing/pool.py\u001b[0m in \u001b[0;36mwait\u001b[0;34m(self, timeout)\u001b[0m\n\u001b[1;32m    597\u001b[0m \u001b[0;34m\u001b[0m\u001b[0m\n\u001b[1;32m    598\u001b[0m     \u001b[0;32mdef\u001b[0m \u001b[0mwait\u001b[0m\u001b[0;34m(\u001b[0m\u001b[0mself\u001b[0m\u001b[0;34m,\u001b[0m \u001b[0mtimeout\u001b[0m\u001b[0;34m=\u001b[0m\u001b[0;32mNone\u001b[0m\u001b[0;34m)\u001b[0m\u001b[0;34m:\u001b[0m\u001b[0;34m\u001b[0m\u001b[0m\n\u001b[0;32m--> 599\u001b[0;31m         \u001b[0mself\u001b[0m\u001b[0;34m.\u001b[0m\u001b[0m_event\u001b[0m\u001b[0;34m.\u001b[0m\u001b[0mwait\u001b[0m\u001b[0;34m(\u001b[0m\u001b[0mtimeout\u001b[0m\u001b[0;34m)\u001b[0m\u001b[0;34m\u001b[0m\u001b[0m\n\u001b[0m\u001b[1;32m    600\u001b[0m \u001b[0;34m\u001b[0m\u001b[0m\n\u001b[1;32m    601\u001b[0m     \u001b[0;32mdef\u001b[0m \u001b[0mget\u001b[0m\u001b[0;34m(\u001b[0m\u001b[0mself\u001b[0m\u001b[0;34m,\u001b[0m \u001b[0mtimeout\u001b[0m\u001b[0;34m=\u001b[0m\u001b[0;32mNone\u001b[0m\u001b[0;34m)\u001b[0m\u001b[0;34m:\u001b[0m\u001b[0;34m\u001b[0m\u001b[0m\n",
      "\u001b[0;32m/usr/lib/python3.5/threading.py\u001b[0m in \u001b[0;36mwait\u001b[0;34m(self, timeout)\u001b[0m\n\u001b[1;32m    547\u001b[0m             \u001b[0msignaled\u001b[0m \u001b[0;34m=\u001b[0m \u001b[0mself\u001b[0m\u001b[0;34m.\u001b[0m\u001b[0m_flag\u001b[0m\u001b[0;34m\u001b[0m\u001b[0m\n\u001b[1;32m    548\u001b[0m             \u001b[0;32mif\u001b[0m \u001b[0;32mnot\u001b[0m \u001b[0msignaled\u001b[0m\u001b[0;34m:\u001b[0m\u001b[0;34m\u001b[0m\u001b[0m\n\u001b[0;32m--> 549\u001b[0;31m                 \u001b[0msignaled\u001b[0m \u001b[0;34m=\u001b[0m \u001b[0mself\u001b[0m\u001b[0;34m.\u001b[0m\u001b[0m_cond\u001b[0m\u001b[0;34m.\u001b[0m\u001b[0mwait\u001b[0m\u001b[0;34m(\u001b[0m\u001b[0mtimeout\u001b[0m\u001b[0;34m)\u001b[0m\u001b[0;34m\u001b[0m\u001b[0m\n\u001b[0m\u001b[1;32m    550\u001b[0m             \u001b[0;32mreturn\u001b[0m \u001b[0msignaled\u001b[0m\u001b[0;34m\u001b[0m\u001b[0m\n\u001b[1;32m    551\u001b[0m \u001b[0;34m\u001b[0m\u001b[0m\n",
      "\u001b[0;32m/usr/lib/python3.5/threading.py\u001b[0m in \u001b[0;36mwait\u001b[0;34m(self, timeout)\u001b[0m\n\u001b[1;32m    291\u001b[0m         \u001b[0;32mtry\u001b[0m\u001b[0;34m:\u001b[0m    \u001b[0;31m# restore state no matter what (e.g., KeyboardInterrupt)\u001b[0m\u001b[0;34m\u001b[0m\u001b[0m\n\u001b[1;32m    292\u001b[0m             \u001b[0;32mif\u001b[0m \u001b[0mtimeout\u001b[0m \u001b[0;32mis\u001b[0m \u001b[0;32mNone\u001b[0m\u001b[0;34m:\u001b[0m\u001b[0;34m\u001b[0m\u001b[0m\n\u001b[0;32m--> 293\u001b[0;31m                 \u001b[0mwaiter\u001b[0m\u001b[0;34m.\u001b[0m\u001b[0macquire\u001b[0m\u001b[0;34m(\u001b[0m\u001b[0;34m)\u001b[0m\u001b[0;34m\u001b[0m\u001b[0m\n\u001b[0m\u001b[1;32m    294\u001b[0m                 \u001b[0mgotit\u001b[0m \u001b[0;34m=\u001b[0m \u001b[0;32mTrue\u001b[0m\u001b[0;34m\u001b[0m\u001b[0m\n\u001b[1;32m    295\u001b[0m             \u001b[0;32melse\u001b[0m\u001b[0;34m:\u001b[0m\u001b[0;34m\u001b[0m\u001b[0m\n",
      "\u001b[0;31mKeyboardInterrupt\u001b[0m: "
     ]
    }
   ],
   "source": [
    "k_range = list(range(1, 20))\n",
    "params = {'n_neighbors': k_range}\n",
    "\n",
    "''' weights='distance' weight points by the inverse of their distance. \n",
    "    in this case, closer neighbors of a query point will have a greater \n",
    "    influence than neighbors which are further away. \n",
    "    p=1 manhattan distance '''\n",
    "\n",
    "knn = KNeighborsClassifier(n_neighbors=1, weights='distance', \n",
    "                           algorithm='auto', leaf_size=30, \n",
    "                           p=1, metric='minkowski', \n",
    "                           metric_params=None, n_jobs=1)\n",
    "\n",
    "knn_grid_search_cv = GridSearchCV(knn, params, \n",
    "                                  cv=5, n_jobs=-1, \n",
    "                                  verbose=1, \n",
    "                                  scoring='f1_weighted')\n",
    "\n",
    "knn_grid_search_cv.fit(X_train_scaled, y_train)\n"
   ]
  },
  {
   "cell_type": "code",
   "execution_count": 42,
   "metadata": {},
   "outputs": [
    {
     "name": "stdout",
     "output_type": "stream",
     "text": [
      "0.9478951293069692 {'n_neighbors': 1}\n",
      "0.9478951293069692 {'n_neighbors': 2}\n",
      "0.9501607646864416 {'n_neighbors': 3}\n",
      "0.9508315687005708 {'n_neighbors': 4}\n",
      "0.9505371777009809 {'n_neighbors': 5}\n",
      "0.9512601158084967 {'n_neighbors': 6}\n",
      "0.9511928772986193 {'n_neighbors': 7}\n",
      "0.9514120827706062 {'n_neighbors': 8}\n",
      "0.9514882875004186 {'n_neighbors': 9}\n",
      "0.9512691611502672 {'n_neighbors': 10}\n",
      "0.950787887902469 {'n_neighbors': 11}\n",
      "0.951601988172136 {'n_neighbors': 12}\n",
      "0.9515004144186484 {'n_neighbors': 13}\n",
      "0.9512750285445106 {'n_neighbors': 14}\n",
      "0.9508600813797381 {'n_neighbors': 15}\n",
      "0.9509520498512115 {'n_neighbors': 16}\n",
      "0.9504264668155142 {'n_neighbors': 17}\n",
      "0.9509239013189499 {'n_neighbors': 18}\n",
      "0.9504999584342608 {'n_neighbors': 19}\n"
     ]
    }
   ],
   "source": [
    "means = knn_grid_search_cv.cv_results_['mean_test_score']\n",
    "for mean, params in zip(means, knn_grid_search_cv.cv_results_['params']):\n",
    "    print(mean, params)"
   ]
  },
  {
   "cell_type": "code",
   "execution_count": 43,
   "metadata": {},
   "outputs": [
    {
     "data": {
      "image/png": "[encoded data removed]",
      "text/plain": [
       "<Figure size 432x288 with 1 Axes>"
      ]
     },
     "metadata": {},
     "output_type": "display_data"
    }
   ],
   "source": [
    "plt.plot(k_range, means)\n",
    "plt.xlabel('Value of K for KNN')\n",
    "plt.ylabel('F1 score based on Cross-Validation')\n",
    "plt.show()"
   ]
  },
  {
   "cell_type": "code",
   "execution_count": 44,
   "metadata": {},
   "outputs": [
    {
     "name": "stdout",
     "output_type": "stream",
     "text": [
      "0.951601988172136\n",
      "{'n_neighbors': 12}\n",
      "KNeighborsClassifier(algorithm='auto', leaf_size=30, metric='minkowski',\n",
      "           metric_params=None, n_jobs=1, n_neighbors=12, p=1,\n",
      "           weights='distance')\n"
     ]
    }
   ],
   "source": [
    "print(knn_grid_search_cv.best_score_)\n",
    "print(knn_grid_search_cv.best_params_)\n",
    "print(knn_grid_search_cv.best_estimator_)"
   ]
  },
  {
   "cell_type": "code",
   "execution_count": 45,
   "metadata": {},
   "outputs": [
    {
     "name": "stdout",
     "output_type": "stream",
     "text": [
      "k-Nearest Neighbors classification results\n",
      "\n",
      " F1-Score \n",
      " 0.6085011185682327\n",
      "\n",
      " Precision \n",
      " 0.7816091954022989\n",
      "\n",
      " Recall \n",
      " 0.4981684981684982\n",
      "\n",
      " Confusion Matrix \n",
      " [[3674   38]\n",
      " [ 137  136]]\n"
     ]
    }
   ],
   "source": [
    "y_pred = knn_grid_search_cv.predict(X_test_scaled)\n",
    "print(\"k-Nearest Neighbors classification results\")\n",
    "print(\"\\n F1-Score \\n\", metrics.f1_score(y_test, y_pred))\n",
    "print(\"\\n Precision \\n\", metrics.precision_score(y_test, y_pred))\n",
    "print(\"\\n Recall \\n\", metrics.recall_score(y_test, y_pred))\n",
    "print(\"\\n Confusion Matrix \\n\", metrics.confusion_matrix(y_test, y_pred))"
   ]
  },
  {
   "cell_type": "code",
   "execution_count": 55,
   "metadata": {},
   "outputs": [],
   "source": [
    "sm = SMOTE(ratio='auto', random_state=None, \n",
    "           k=None, k_neighbors=5, m=None, \n",
    "           m_neighbors=10, out_step=0.5, \n",
    "           kind='regular', svm_estimator=None, \n",
    "           n_jobs=1)\n",
    "\n",
    "smote_enn = SMOTEENN(smote = sm)\n",
    "\n",
    "pipeline = make_pipeline(smote_enn, knn)"
   ]
  },
  {
   "cell_type": "code",
   "execution_count": 59,
   "metadata": {},
   "outputs": [],
   "source": [
    "params = {'n_neighbors': k_range}\n",
    "knn_grid_search_cv = GridSearchCV(pipeline, param_grid=params, \n",
    "                                  cv=5, n_jobs=-1, \n",
    "                                  verbose=1, \n",
    "                                  scoring='f1_weighted')"
   ]
  },
  {
   "cell_type": "code",
   "execution_count": 60,
   "metadata": {},
   "outputs": [
    {
     "name": "stdout",
     "output_type": "stream",
     "text": [
      "Fitting 5 folds for each of 19 candidates, totalling 95 fits\n"
     ]
    },
    {
     "ename": "JoblibValueError",
     "evalue": "JoblibValueError\n___________________________________________________________________________\nMultiprocessing exception:\n...........................................................................\n/usr/lib/python3.5/runpy.py in _run_module_as_main(mod_name='ipykernel_launcher', alter_argv=1)\n    188         sys.exit(msg)\n    189     main_globals = sys.modules[\"__main__\"].__dict__\n    190     if alter_argv:\n    191         sys.argv[0] = mod_spec.origin\n    192     return _run_code(code, main_globals, None,\n--> 193                      \"__main__\", mod_spec)\n        mod_spec = ModuleSpec(name='ipykernel_launcher', loader=<_f...b/python3.5/site-packages/ipykernel_launcher.py')\n    194 \n    195 def run_module(mod_name, init_globals=None,\n    196                run_name=None, alter_sys=False):\n    197     \"\"\"Execute a module's code without importing it\n\n...........................................................................\n/usr/lib/python3.5/runpy.py in _run_code(code=<code object <module> at 0x7f7e3890a5d0, file \"/...3.5/site-packages/ipykernel_launcher.py\", line 5>, run_globals={'__builtins__': <module 'builtins' (built-in)>, '__cached__': '/home/aaron/.virtualenvs/CSc177/lib/python3.5/si...ges/__pycache__/ipykernel_launcher.cpython-35.pyc', '__doc__': 'Entry point for launching an IPython kernel.\\n\\nTh...orts until\\nafter removing the cwd from sys.path.\\n', '__file__': '/home/aaron/.virtualenvs/CSc177/lib/python3.5/site-packages/ipykernel_launcher.py', '__loader__': <_frozen_importlib_external.SourceFileLoader object>, '__name__': '__main__', '__package__': '', '__spec__': ModuleSpec(name='ipykernel_launcher', loader=<_f...b/python3.5/site-packages/ipykernel_launcher.py'), 'app': <module 'ipykernel.kernelapp' from '/home/aaron/.../python3.5/site-packages/ipykernel/kernelapp.py'>, 'sys': <module 'sys' (built-in)>}, init_globals=None, mod_name='__main__', mod_spec=ModuleSpec(name='ipykernel_launcher', loader=<_f...b/python3.5/site-packages/ipykernel_launcher.py'), pkg_name='', script_name=None)\n     80                        __cached__ = cached,\n     81                        __doc__ = None,\n     82                        __loader__ = loader,\n     83                        __package__ = pkg_name,\n     84                        __spec__ = mod_spec)\n---> 85     exec(code, run_globals)\n        code = <code object <module> at 0x7f7e3890a5d0, file \"/...3.5/site-packages/ipykernel_launcher.py\", line 5>\n        run_globals = {'__builtins__': <module 'builtins' (built-in)>, '__cached__': '/home/aaron/.virtualenvs/CSc177/lib/python3.5/si...ges/__pycache__/ipykernel_launcher.cpython-35.pyc', '__doc__': 'Entry point for launching an IPython kernel.\\n\\nTh...orts until\\nafter removing the cwd from sys.path.\\n', '__file__': '/home/aaron/.virtualenvs/CSc177/lib/python3.5/site-packages/ipykernel_launcher.py', '__loader__': <_frozen_importlib_external.SourceFileLoader object>, '__name__': '__main__', '__package__': '', '__spec__': ModuleSpec(name='ipykernel_launcher', loader=<_f...b/python3.5/site-packages/ipykernel_launcher.py'), 'app': <module 'ipykernel.kernelapp' from '/home/aaron/.../python3.5/site-packages/ipykernel/kernelapp.py'>, 'sys': <module 'sys' (built-in)>}\n     86     return run_globals\n     87 \n     88 def _run_module_code(code, init_globals=None,\n     89                     mod_name=None, mod_spec=None,\n\n...........................................................................\n/home/aaron/.virtualenvs/CSc177/lib/python3.5/site-packages/ipykernel_launcher.py in <module>()\n     11     # This is added back by InteractiveShellApp.init_path()\n     12     if sys.path[0] == '':\n     13         del sys.path[0]\n     14 \n     15     from ipykernel import kernelapp as app\n---> 16     app.launch_new_instance()\n\n...........................................................................\n/home/aaron/.virtualenvs/CSc177/lib/python3.5/site-packages/traitlets/config/application.py in launch_instance(cls=<class 'ipykernel.kernelapp.IPKernelApp'>, argv=None, **kwargs={})\n    653 \n    654         If a global instance already exists, this reinitializes and starts it\n    655         \"\"\"\n    656         app = cls.instance(**kwargs)\n    657         app.initialize(argv)\n--> 658         app.start()\n        app.start = <bound method IPKernelApp.start of <ipykernel.kernelapp.IPKernelApp object>>\n    659 \n    660 #-----------------------------------------------------------------------------\n    661 # utility functions, for convenience\n    662 #-----------------------------------------------------------------------------\n\n...........................................................................\n/home/aaron/.virtualenvs/CSc177/lib/python3.5/site-packages/ipykernel/kernelapp.py in start(self=<ipykernel.kernelapp.IPKernelApp object>)\n    473         if self.poller is not None:\n    474             self.poller.start()\n    475         self.kernel.start()\n    476         self.io_loop = ioloop.IOLoop.current()\n    477         try:\n--> 478             self.io_loop.start()\n        self.io_loop.start = <bound method ZMQIOLoop.start of <zmq.eventloop.ioloop.ZMQIOLoop object>>\n    479         except KeyboardInterrupt:\n    480             pass\n    481 \n    482 launch_new_instance = IPKernelApp.launch_instance\n\n...........................................................................\n/home/aaron/.virtualenvs/CSc177/lib/python3.5/site-packages/zmq/eventloop/ioloop.py in start(self=<zmq.eventloop.ioloop.ZMQIOLoop object>)\n    172             )\n    173         return loop\n    174     \n    175     def start(self):\n    176         try:\n--> 177             super(ZMQIOLoop, self).start()\n        self.start = <bound method ZMQIOLoop.start of <zmq.eventloop.ioloop.ZMQIOLoop object>>\n    178         except ZMQError as e:\n    179             if e.errno == ETERM:\n    180                 # quietly return on ETERM\n    181                 pass\n\n...........................................................................\n/home/aaron/.virtualenvs/CSc177/lib/python3.5/site-packages/tornado/ioloop.py in start(self=<zmq.eventloop.ioloop.ZMQIOLoop object>)\n    883                 self._events.update(event_pairs)\n    884                 while self._events:\n    885                     fd, events = self._events.popitem()\n    886                     try:\n    887                         fd_obj, handler_func = self._handlers[fd]\n--> 888                         handler_func(fd_obj, events)\n        handler_func = <function wrap.<locals>.null_wrapper>\n        fd_obj = <zmq.sugar.socket.Socket object>\n        events = 1\n    889                     except (OSError, IOError) as e:\n    890                         if errno_from_exception(e) == errno.EPIPE:\n    891                             # Happens when the client closes the connection\n    892                             pass\n\n...........................................................................\n/home/aaron/.virtualenvs/CSc177/lib/python3.5/site-packages/tornado/stack_context.py in null_wrapper(*args=(<zmq.sugar.socket.Socket object>, 1), **kwargs={})\n    272         # Fast path when there are no active contexts.\n    273         def null_wrapper(*args, **kwargs):\n    274             try:\n    275                 current_state = _state.contexts\n    276                 _state.contexts = cap_contexts[0]\n--> 277                 return fn(*args, **kwargs)\n        args = (<zmq.sugar.socket.Socket object>, 1)\n        kwargs = {}\n    278             finally:\n    279                 _state.contexts = current_state\n    280         null_wrapper._wrapped = True\n    281         return null_wrapper\n\n...........................................................................\n/home/aaron/.virtualenvs/CSc177/lib/python3.5/site-packages/zmq/eventloop/zmqstream.py in _handle_events(self=<zmq.eventloop.zmqstream.ZMQStream object>, fd=<zmq.sugar.socket.Socket object>, events=1)\n    435             # dispatch events:\n    436             if events & IOLoop.ERROR:\n    437                 gen_log.error(\"got POLLERR event on ZMQStream, which doesn't make sense\")\n    438                 return\n    439             if events & IOLoop.READ:\n--> 440                 self._handle_recv()\n        self._handle_recv = <bound method ZMQStream._handle_recv of <zmq.eventloop.zmqstream.ZMQStream object>>\n    441                 if not self.socket:\n    442                     return\n    443             if events & IOLoop.WRITE:\n    444                 self._handle_send()\n\n...........................................................................\n/home/aaron/.virtualenvs/CSc177/lib/python3.5/site-packages/zmq/eventloop/zmqstream.py in _handle_recv(self=<zmq.eventloop.zmqstream.ZMQStream object>)\n    467                 gen_log.error(\"RECV Error: %s\"%zmq.strerror(e.errno))\n    468         else:\n    469             if self._recv_callback:\n    470                 callback = self._recv_callback\n    471                 # self._recv_callback = None\n--> 472                 self._run_callback(callback, msg)\n        self._run_callback = <bound method ZMQStream._run_callback of <zmq.eventloop.zmqstream.ZMQStream object>>\n        callback = <function wrap.<locals>.null_wrapper>\n        msg = [<zmq.sugar.frame.Frame object>, <zmq.sugar.frame.Frame object>, <zmq.sugar.frame.Frame object>, <zmq.sugar.frame.Frame object>, <zmq.sugar.frame.Frame object>, <zmq.sugar.frame.Frame object>, <zmq.sugar.frame.Frame object>]\n    473                 \n    474         # self.update_state()\n    475         \n    476 \n\n...........................................................................\n/home/aaron/.virtualenvs/CSc177/lib/python3.5/site-packages/zmq/eventloop/zmqstream.py in _run_callback(self=<zmq.eventloop.zmqstream.ZMQStream object>, callback=<function wrap.<locals>.null_wrapper>, *args=([<zmq.sugar.frame.Frame object>, <zmq.sugar.frame.Frame object>, <zmq.sugar.frame.Frame object>, <zmq.sugar.frame.Frame object>, <zmq.sugar.frame.Frame object>, <zmq.sugar.frame.Frame object>, <zmq.sugar.frame.Frame object>],), **kwargs={})\n    409         close our socket.\"\"\"\n    410         try:\n    411             # Use a NullContext to ensure that all StackContexts are run\n    412             # inside our blanket exception handler rather than outside.\n    413             with stack_context.NullContext():\n--> 414                 callback(*args, **kwargs)\n        callback = <function wrap.<locals>.null_wrapper>\n        args = ([<zmq.sugar.frame.Frame object>, <zmq.sugar.frame.Frame object>, <zmq.sugar.frame.Frame object>, <zmq.sugar.frame.Frame object>, <zmq.sugar.frame.Frame object>, <zmq.sugar.frame.Frame object>, <zmq.sugar.frame.Frame object>],)\n        kwargs = {}\n    415         except:\n    416             gen_log.error(\"Uncaught exception, closing connection.\",\n    417                           exc_info=True)\n    418             # Close the socket on an uncaught exception from a user callback\n\n...........................................................................\n/home/aaron/.virtualenvs/CSc177/lib/python3.5/site-packages/tornado/stack_context.py in null_wrapper(*args=([<zmq.sugar.frame.Frame object>, <zmq.sugar.frame.Frame object>, <zmq.sugar.frame.Frame object>, <zmq.sugar.frame.Frame object>, <zmq.sugar.frame.Frame object>, <zmq.sugar.frame.Frame object>, <zmq.sugar.frame.Frame object>],), **kwargs={})\n    272         # Fast path when there are no active contexts.\n    273         def null_wrapper(*args, **kwargs):\n    274             try:\n    275                 current_state = _state.contexts\n    276                 _state.contexts = cap_contexts[0]\n--> 277                 return fn(*args, **kwargs)\n        args = ([<zmq.sugar.frame.Frame object>, <zmq.sugar.frame.Frame object>, <zmq.sugar.frame.Frame object>, <zmq.sugar.frame.Frame object>, <zmq.sugar.frame.Frame object>, <zmq.sugar.frame.Frame object>, <zmq.sugar.frame.Frame object>],)\n        kwargs = {}\n    278             finally:\n    279                 _state.contexts = current_state\n    280         null_wrapper._wrapped = True\n    281         return null_wrapper\n\n...........................................................................\n/home/aaron/.virtualenvs/CSc177/lib/python3.5/site-packages/ipykernel/kernelbase.py in dispatcher(msg=[<zmq.sugar.frame.Frame object>, <zmq.sugar.frame.Frame object>, <zmq.sugar.frame.Frame object>, <zmq.sugar.frame.Frame object>, <zmq.sugar.frame.Frame object>, <zmq.sugar.frame.Frame object>, <zmq.sugar.frame.Frame object>])\n    278         if self.control_stream:\n    279             self.control_stream.on_recv(self.dispatch_control, copy=False)\n    280 \n    281         def make_dispatcher(stream):\n    282             def dispatcher(msg):\n--> 283                 return self.dispatch_shell(stream, msg)\n        msg = [<zmq.sugar.frame.Frame object>, <zmq.sugar.frame.Frame object>, <zmq.sugar.frame.Frame object>, <zmq.sugar.frame.Frame object>, <zmq.sugar.frame.Frame object>, <zmq.sugar.frame.Frame object>, <zmq.sugar.frame.Frame object>]\n    284             return dispatcher\n    285 \n    286         for s in self.shell_streams:\n    287             s.on_recv(make_dispatcher(s), copy=False)\n\n...........................................................................\n/home/aaron/.virtualenvs/CSc177/lib/python3.5/site-packages/ipykernel/kernelbase.py in dispatch_shell(self=<ipykernel.ipkernel.IPythonKernel object>, stream=<zmq.eventloop.zmqstream.ZMQStream object>, msg={'buffers': [], 'content': {'allow_stdin': True, 'code': 'knn_grid_search_cv.fit(X_train_scaled, y_train)', 'silent': False, 'stop_on_error': True, 'store_history': True, 'user_expressions': {}}, 'header': {'date': datetime.datetime(2018, 4, 26, 3, 52, 39, 20823, tzinfo=tzutc()), 'msg_id': '66AE4D18F05D4A76B0AA5F6EAC3F5260', 'msg_type': 'execute_request', 'session': '95E35BA5718A4F9F8F426EFBBD8A2FC3', 'username': 'username', 'version': '5.2'}, 'metadata': {}, 'msg_id': '66AE4D18F05D4A76B0AA5F6EAC3F5260', 'msg_type': 'execute_request', 'parent_header': {}})\n    228             self.log.warn(\"Unknown message type: %r\", msg_type)\n    229         else:\n    230             self.log.debug(\"%s: %s\", msg_type, msg)\n    231             self.pre_handler_hook()\n    232             try:\n--> 233                 handler(stream, idents, msg)\n        handler = <bound method Kernel.execute_request of <ipykernel.ipkernel.IPythonKernel object>>\n        stream = <zmq.eventloop.zmqstream.ZMQStream object>\n        idents = [b'95E35BA5718A4F9F8F426EFBBD8A2FC3']\n        msg = {'buffers': [], 'content': {'allow_stdin': True, 'code': 'knn_grid_search_cv.fit(X_train_scaled, y_train)', 'silent': False, 'stop_on_error': True, 'store_history': True, 'user_expressions': {}}, 'header': {'date': datetime.datetime(2018, 4, 26, 3, 52, 39, 20823, tzinfo=tzutc()), 'msg_id': '66AE4D18F05D4A76B0AA5F6EAC3F5260', 'msg_type': 'execute_request', 'session': '95E35BA5718A4F9F8F426EFBBD8A2FC3', 'username': 'username', 'version': '5.2'}, 'metadata': {}, 'msg_id': '66AE4D18F05D4A76B0AA5F6EAC3F5260', 'msg_type': 'execute_request', 'parent_header': {}}\n    234             except Exception:\n    235                 self.log.error(\"Exception in message handler:\", exc_info=True)\n    236             finally:\n    237                 self.post_handler_hook()\n\n...........................................................................\n/home/aaron/.virtualenvs/CSc177/lib/python3.5/site-packages/ipykernel/kernelbase.py in execute_request(self=<ipykernel.ipkernel.IPythonKernel object>, stream=<zmq.eventloop.zmqstream.ZMQStream object>, ident=[b'95E35BA5718A4F9F8F426EFBBD8A2FC3'], parent={'buffers': [], 'content': {'allow_stdin': True, 'code': 'knn_grid_search_cv.fit(X_train_scaled, y_train)', 'silent': False, 'stop_on_error': True, 'store_history': True, 'user_expressions': {}}, 'header': {'date': datetime.datetime(2018, 4, 26, 3, 52, 39, 20823, tzinfo=tzutc()), 'msg_id': '66AE4D18F05D4A76B0AA5F6EAC3F5260', 'msg_type': 'execute_request', 'session': '95E35BA5718A4F9F8F426EFBBD8A2FC3', 'username': 'username', 'version': '5.2'}, 'metadata': {}, 'msg_id': '66AE4D18F05D4A76B0AA5F6EAC3F5260', 'msg_type': 'execute_request', 'parent_header': {}})\n    394         if not silent:\n    395             self.execution_count += 1\n    396             self._publish_execute_input(code, parent, self.execution_count)\n    397 \n    398         reply_content = self.do_execute(code, silent, store_history,\n--> 399                                         user_expressions, allow_stdin)\n        user_expressions = {}\n        allow_stdin = True\n    400 \n    401         # Flush output before sending the reply.\n    402         sys.stdout.flush()\n    403         sys.stderr.flush()\n\n...........................................................................\n/home/aaron/.virtualenvs/CSc177/lib/python3.5/site-packages/ipykernel/ipkernel.py in do_execute(self=<ipykernel.ipkernel.IPythonKernel object>, code='knn_grid_search_cv.fit(X_train_scaled, y_train)', silent=False, store_history=True, user_expressions={}, allow_stdin=True)\n    203 \n    204         self._forward_input(allow_stdin)\n    205 \n    206         reply_content = {}\n    207         try:\n--> 208             res = shell.run_cell(code, store_history=store_history, silent=silent)\n        res = undefined\n        shell.run_cell = <bound method ZMQInteractiveShell.run_cell of <ipykernel.zmqshell.ZMQInteractiveShell object>>\n        code = 'knn_grid_search_cv.fit(X_train_scaled, y_train)'\n        store_history = True\n        silent = False\n    209         finally:\n    210             self._restore_input()\n    211 \n    212         if res.error_before_exec is not None:\n\n...........................................................................\n/home/aaron/.virtualenvs/CSc177/lib/python3.5/site-packages/ipykernel/zmqshell.py in run_cell(self=<ipykernel.zmqshell.ZMQInteractiveShell object>, *args=('knn_grid_search_cv.fit(X_train_scaled, y_train)',), **kwargs={'silent': False, 'store_history': True})\n    532             )\n    533         self.payload_manager.write_payload(payload)\n    534 \n    535     def run_cell(self, *args, **kwargs):\n    536         self._last_traceback = None\n--> 537         return super(ZMQInteractiveShell, self).run_cell(*args, **kwargs)\n        self.run_cell = <bound method ZMQInteractiveShell.run_cell of <ipykernel.zmqshell.ZMQInteractiveShell object>>\n        args = ('knn_grid_search_cv.fit(X_train_scaled, y_train)',)\n        kwargs = {'silent': False, 'store_history': True}\n    538 \n    539     def _showtraceback(self, etype, evalue, stb):\n    540         # try to preserve ordering of tracebacks and print statements\n    541         sys.stdout.flush()\n\n...........................................................................\n/home/aaron/.virtualenvs/CSc177/lib/python3.5/site-packages/IPython/core/interactiveshell.py in run_cell(self=<ipykernel.zmqshell.ZMQInteractiveShell object>, raw_cell='knn_grid_search_cv.fit(X_train_scaled, y_train)', store_history=True, silent=False, shell_futures=True)\n   2723                 self.displayhook.exec_result = result\n   2724 \n   2725                 # Execute the user code\n   2726                 interactivity = \"none\" if silent else self.ast_node_interactivity\n   2727                 has_raised = self.run_ast_nodes(code_ast.body, cell_name,\n-> 2728                    interactivity=interactivity, compiler=compiler, result=result)\n        interactivity = 'last_expr'\n        compiler = <IPython.core.compilerop.CachingCompiler object>\n   2729                 \n   2730                 self.last_execution_succeeded = not has_raised\n   2731                 self.last_execution_result = result\n   2732 \n\n...........................................................................\n/home/aaron/.virtualenvs/CSc177/lib/python3.5/site-packages/IPython/core/interactiveshell.py in run_ast_nodes(self=<ipykernel.zmqshell.ZMQInteractiveShell object>, nodelist=[<_ast.Expr object>], cell_name='<ipython-input-60-51b06374c5cb>', interactivity='last', compiler=<IPython.core.compilerop.CachingCompiler object>, result=<ExecutionResult object at 7f7de95d2588, executi..._before_exec=None error_in_exec=None result=None>)\n   2851                     return True\n   2852 \n   2853             for i, node in enumerate(to_run_interactive):\n   2854                 mod = ast.Interactive([node])\n   2855                 code = compiler(mod, cell_name, \"single\")\n-> 2856                 if self.run_code(code, result):\n        self.run_code = <bound method InteractiveShell.run_code of <ipykernel.zmqshell.ZMQInteractiveShell object>>\n        code = <code object <module> at 0x7f7de9316a50, file \"<ipython-input-60-51b06374c5cb>\", line 1>\n        result = <ExecutionResult object at 7f7de95d2588, executi..._before_exec=None error_in_exec=None result=None>\n   2857                     return True\n   2858 \n   2859             # Flush softspace\n   2860             if softspace(sys.stdout, 0):\n\n...........................................................................\n/home/aaron/.virtualenvs/CSc177/lib/python3.5/site-packages/IPython/core/interactiveshell.py in run_code(self=<ipykernel.zmqshell.ZMQInteractiveShell object>, code_obj=<code object <module> at 0x7f7de9316a50, file \"<ipython-input-60-51b06374c5cb>\", line 1>, result=<ExecutionResult object at 7f7de95d2588, executi..._before_exec=None error_in_exec=None result=None>)\n   2905         outflag = True  # happens in more places, so it's easier as default\n   2906         try:\n   2907             try:\n   2908                 self.hooks.pre_run_code_hook()\n   2909                 #rprint('Running code', repr(code_obj)) # dbg\n-> 2910                 exec(code_obj, self.user_global_ns, self.user_ns)\n        code_obj = <code object <module> at 0x7f7de9316a50, file \"<ipython-input-60-51b06374c5cb>\", line 1>\n        self.user_global_ns = {'DecisionTreeClassifier': <class 'sklearn.tree.tree.DecisionTreeClassifier'>, 'GridSearchCV': <class 'sklearn.model_selection._search.GridSearchCV'>, 'In': ['', \"import pandas as pd\\nimport numpy as np\\nimport ma...line')\\n\\npd.set_option('display.max_colwidth', -1)\", \"daily_spotify = pd.read_csv('./data/data.csv')\\nd...e', 'artist', 'streams', 'url', 'date', 'region']\", 'print(daily_spotify.shape)\\nprint(daily_spotify.dtypes)', 'daily_spotify.head()', \"# keep only chart data from 2017\\n#daily_spotify ...y_spotify[(daily_spotify['date'] < '2018-01-01')]\", \"daily_spotify['url'].nunique()\", \"daily_spotify['region'].unique()\", \"#df = daily_spotify.groupby(['track_name', 'artist'])['region'].unique().to_frame()\", '#mlb = MultiLabelBinarizer()\\n#df = df.join(pd.Da...ses_,\\n#                          index=df.index))', \"#daily_spotify.groupby(['track_name', 'artist'])['streams'].apply(sum).to_frame()\", \"df_streams_by_country = daily_spotify.groupby(['...ition', 'date'], as_index=False)['streams'].sum()\", 'df_streams_by_country.head(n=10)', \"df = df_streams_by_country.pivot_table(index=['t...on', values='streams', aggfunc=sum, fill_value=0)\", 'df.reset_index(level=[0,1], inplace=True)', \"df['track_name_by_artist'] = df.track_name.str.cat(df.artist, sep=' ')\", \"df.drop(['track_name', 'artist'], axis=1, inplace=True)\", 'labels, levels = pd.factorize(df.track_name_by_artist)', \"df_streams_by_country['top10'] = np.where(df_streams_by_country['position'] <= 10, 1, 0)\", \"df_streams_by_country['top10'].value_counts()\", ...], 'KNeighborsClassifier': <class 'sklearn.neighbors.classification.KNeighborsClassifier'>, 'LinearSVC': <class 'sklearn.svm.classes.LinearSVC'>, 'LogisticRegression': <class 'sklearn.linear_model.logistic.LogisticRegression'>, 'MultiLabelBinarizer': <class 'sklearn.preprocessing.label.MultiLabelBinarizer'>, 'Out': {4:    position                  track_name         ...track/6rQSrBHf7HlZjtcMZ4S4bO  2017-01-01  ec     , 6: 21746, 7: array(['ec', 'fr', 'ar', 'fi', 'no', 'it', 'lt',...py', 'au', 'lv', 'gr', 'hk'],\n      dtype=object), 12:                                   track_name    ...8  2017-10-23  1458     \n9  2017-10-22  1310     , 19: 0    3244032\n1    196508 \nName: top10, dtype: int64, 23: 0    18576\n1    1346 \nName: top10, dtype: int64, 25:    top10\n0  0    \n1  0    \n2  0    \n3  0    \n4  0    , 26: region  ar  at  au     be  bo  br  ca  ch  cl  c...                          \n\n[5 rows x 55 columns], 28: region                                          ...      403591  0   0   0   \n\n[5 rows x 54 columns], 30: 0        0\n1        0\n2        0\n3        0\n4   ...921    0\nName: top10, Length: 19922, dtype: int64, ...}, 'Pipeline': <class 'imblearn.pipeline.Pipeline'>, 'SMOTE': <class 'imblearn.over_sampling.smote.SMOTE'>, ...}\n        self.user_ns = {'DecisionTreeClassifier': <class 'sklearn.tree.tree.DecisionTreeClassifier'>, 'GridSearchCV': <class 'sklearn.model_selection._search.GridSearchCV'>, 'In': ['', \"import pandas as pd\\nimport numpy as np\\nimport ma...line')\\n\\npd.set_option('display.max_colwidth', -1)\", \"daily_spotify = pd.read_csv('./data/data.csv')\\nd...e', 'artist', 'streams', 'url', 'date', 'region']\", 'print(daily_spotify.shape)\\nprint(daily_spotify.dtypes)', 'daily_spotify.head()', \"# keep only chart data from 2017\\n#daily_spotify ...y_spotify[(daily_spotify['date'] < '2018-01-01')]\", \"daily_spotify['url'].nunique()\", \"daily_spotify['region'].unique()\", \"#df = daily_spotify.groupby(['track_name', 'artist'])['region'].unique().to_frame()\", '#mlb = MultiLabelBinarizer()\\n#df = df.join(pd.Da...ses_,\\n#                          index=df.index))', \"#daily_spotify.groupby(['track_name', 'artist'])['streams'].apply(sum).to_frame()\", \"df_streams_by_country = daily_spotify.groupby(['...ition', 'date'], as_index=False)['streams'].sum()\", 'df_streams_by_country.head(n=10)', \"df = df_streams_by_country.pivot_table(index=['t...on', values='streams', aggfunc=sum, fill_value=0)\", 'df.reset_index(level=[0,1], inplace=True)', \"df['track_name_by_artist'] = df.track_name.str.cat(df.artist, sep=' ')\", \"df.drop(['track_name', 'artist'], axis=1, inplace=True)\", 'labels, levels = pd.factorize(df.track_name_by_artist)', \"df_streams_by_country['top10'] = np.where(df_streams_by_country['position'] <= 10, 1, 0)\", \"df_streams_by_country['top10'].value_counts()\", ...], 'KNeighborsClassifier': <class 'sklearn.neighbors.classification.KNeighborsClassifier'>, 'LinearSVC': <class 'sklearn.svm.classes.LinearSVC'>, 'LogisticRegression': <class 'sklearn.linear_model.logistic.LogisticRegression'>, 'MultiLabelBinarizer': <class 'sklearn.preprocessing.label.MultiLabelBinarizer'>, 'Out': {4:    position                  track_name         ...track/6rQSrBHf7HlZjtcMZ4S4bO  2017-01-01  ec     , 6: 21746, 7: array(['ec', 'fr', 'ar', 'fi', 'no', 'it', 'lt',...py', 'au', 'lv', 'gr', 'hk'],\n      dtype=object), 12:                                   track_name    ...8  2017-10-23  1458     \n9  2017-10-22  1310     , 19: 0    3244032\n1    196508 \nName: top10, dtype: int64, 23: 0    18576\n1    1346 \nName: top10, dtype: int64, 25:    top10\n0  0    \n1  0    \n2  0    \n3  0    \n4  0    , 26: region  ar  at  au     be  bo  br  ca  ch  cl  c...                          \n\n[5 rows x 55 columns], 28: region                                          ...      403591  0   0   0   \n\n[5 rows x 54 columns], 30: 0        0\n1        0\n2        0\n3        0\n4   ...921    0\nName: top10, Length: 19922, dtype: int64, ...}, 'Pipeline': <class 'imblearn.pipeline.Pipeline'>, 'SMOTE': <class 'imblearn.over_sampling.smote.SMOTE'>, ...}\n   2911             finally:\n   2912                 # Reset our crash handler in place\n   2913                 sys.excepthook = old_excepthook\n   2914         except SystemExit as e:\n\n...........................................................................\n/home/aaron/dev/CSc177/spotify-charts/<ipython-input-60-51b06374c5cb> in <module>()\n----> 1 knn_grid_search_cv.fit(X_train_scaled, y_train)\n\n...........................................................................\n/home/aaron/.virtualenvs/CSc177/lib/python3.5/site-packages/sklearn/model_selection/_search.py in fit(self=GridSearchCV(cv=5, error_score='raise',\n       e...='warn',\n       scoring='f1_weighted', verbose=1), X=array([[-0.09733547, -0.117291  , -0.11123174, .... -0.03722762,\n        -0.11748239, -0.09951198]]), y=19050    0\n17662    0\n17878    0\n7365     0\n8242...795    0\nName: top10, Length: 15937, dtype: int64, groups=None, **fit_params={})\n    634                                   return_train_score=self.return_train_score,\n    635                                   return_n_test_samples=True,\n    636                                   return_times=True, return_parameters=False,\n    637                                   error_score=self.error_score)\n    638           for parameters, (train, test) in product(candidate_params,\n--> 639                                                    cv.split(X, y, groups)))\n        cv.split = <bound method StratifiedKFold.split of Stratifie...ld(n_splits=5, random_state=None, shuffle=False)>\n        X = array([[-0.09733547, -0.117291  , -0.11123174, .... -0.03722762,\n        -0.11748239, -0.09951198]])\n        y = 19050    0\n17662    0\n17878    0\n7365     0\n8242...795    0\nName: top10, Length: 15937, dtype: int64\n        groups = None\n    640 \n    641         # if one choose to see train score, \"out\" will contain train score info\n    642         if self.return_train_score:\n    643             (train_score_dicts, test_score_dicts, test_sample_counts, fit_time,\n\n...........................................................................\n/home/aaron/.virtualenvs/CSc177/lib/python3.5/site-packages/sklearn/externals/joblib/parallel.py in __call__(self=Parallel(n_jobs=-1), iterable=<generator object BaseSearchCV.fit.<locals>.<genexpr>>)\n    784             if pre_dispatch == \"all\" or n_jobs == 1:\n    785                 # The iterable was consumed all at once by the above for loop.\n    786                 # No need to wait for async callbacks to trigger to\n    787                 # consumption.\n    788                 self._iterating = False\n--> 789             self.retrieve()\n        self.retrieve = <bound method Parallel.retrieve of Parallel(n_jobs=-1)>\n    790             # Make sure that we get a last message telling us we are done\n    791             elapsed_time = time.time() - self._start_time\n    792             self._print('Done %3i out of %3i | elapsed: %s finished',\n    793                         (len(self._output), len(self._output),\n\n---------------------------------------------------------------------------\nSub-process traceback:\n---------------------------------------------------------------------------\nValueError                                         Wed Apr 25 20:52:39 2018\nPID: 7230         Python 3.5.3: /home/aaron/.virtualenvs/CSc177/bin/python3\n...........................................................................\n/home/aaron/.virtualenvs/CSc177/lib/python3.5/site-packages/sklearn/externals/joblib/parallel.py in __call__(self=<sklearn.externals.joblib.parallel.BatchedCalls object>)\n    126     def __init__(self, iterator_slice):\n    127         self.items = list(iterator_slice)\n    128         self._size = len(self.items)\n    129 \n    130     def __call__(self):\n--> 131         return [func(*args, **kwargs) for func, args, kwargs in self.items]\n        self.items = [(<function _fit_and_score>, (Pipeline(memory=None,\n     steps=[('smoteenn', S...ighbors=1, p=1,\n           weights='distance'))]), memmap([[-0.09733547, -0.117291  , -0.11123174, ...-0.03722762,\n         -0.11748239, -0.09951198]]), 19050    0\n17662    0\n17878    0\n7365     0\n8242...795    0\nName: top10, Length: 15937, dtype: int64, {'score': make_scorer(f1_score, pos_label=None, average=weighted)}, array([ 3175,  3176,  3178, ..., 15934, 15935, 15936]), array([   0,    1,    2, ..., 3376, 3384, 3404]), 1, {'n_neighbors': 1}), {'error_score': 'raise', 'fit_params': {}, 'return_n_test_samples': True, 'return_parameters': False, 'return_times': True, 'return_train_score': 'warn'})]\n    132 \n    133     def __len__(self):\n    134         return self._size\n    135 \n\n...........................................................................\n/home/aaron/.virtualenvs/CSc177/lib/python3.5/site-packages/sklearn/externals/joblib/parallel.py in <listcomp>(.0=<list_iterator object>)\n    126     def __init__(self, iterator_slice):\n    127         self.items = list(iterator_slice)\n    128         self._size = len(self.items)\n    129 \n    130     def __call__(self):\n--> 131         return [func(*args, **kwargs) for func, args, kwargs in self.items]\n        func = <function _fit_and_score>\n        args = (Pipeline(memory=None,\n     steps=[('smoteenn', S...ighbors=1, p=1,\n           weights='distance'))]), memmap([[-0.09733547, -0.117291  , -0.11123174, ...-0.03722762,\n         -0.11748239, -0.09951198]]), 19050    0\n17662    0\n17878    0\n7365     0\n8242...795    0\nName: top10, Length: 15937, dtype: int64, {'score': make_scorer(f1_score, pos_label=None, average=weighted)}, array([ 3175,  3176,  3178, ..., 15934, 15935, 15936]), array([   0,    1,    2, ..., 3376, 3384, 3404]), 1, {'n_neighbors': 1})\n        kwargs = {'error_score': 'raise', 'fit_params': {}, 'return_n_test_samples': True, 'return_parameters': False, 'return_times': True, 'return_train_score': 'warn'}\n    132 \n    133     def __len__(self):\n    134         return self._size\n    135 \n\n...........................................................................\n/home/aaron/.virtualenvs/CSc177/lib/python3.5/site-packages/sklearn/model_selection/_validation.py in _fit_and_score(estimator=Pipeline(memory=None,\n     steps=[('smoteenn', S...ighbors=1, p=1,\n           weights='distance'))]), X=memmap([[-0.09733547, -0.117291  , -0.11123174, ...-0.03722762,\n         -0.11748239, -0.09951198]]), y=19050    0\n17662    0\n17878    0\n7365     0\n8242...795    0\nName: top10, Length: 15937, dtype: int64, scorer={'score': make_scorer(f1_score, pos_label=None, average=weighted)}, train=array([ 3175,  3176,  3178, ..., 15934, 15935, 15936]), test=array([   0,    1,    2, ..., 3376, 3384, 3404]), verbose=1, parameters={'n_neighbors': 1}, fit_params={}, return_train_score='warn', return_parameters=False, return_n_test_samples=True, return_times=True, error_score='raise')\n    439                       for k, v in fit_params.items()])\n    440 \n    441     test_scores = {}\n    442     train_scores = {}\n    443     if parameters is not None:\n--> 444         estimator.set_params(**parameters)\n        estimator.set_params = <bound method Pipeline.set_params of Pipeline(me...ghbors=1, p=1,\n           weights='distance'))])>\n        parameters = {'n_neighbors': 1}\n    445 \n    446     start_time = time.time()\n    447 \n    448     X_train, y_train = _safe_split(estimator, X, y, train)\n\n...........................................................................\n/home/aaron/.virtualenvs/CSc177/lib/python3.5/site-packages/sklearn/pipeline.py in set_params(self=Pipeline(memory=None,\n     steps=[('smoteenn', S...ighbors=1, p=1,\n           weights='distance'))]), **kwargs={'n_neighbors': 1})\n    137 \n    138         Returns\n    139         -------\n    140         self\n    141         \"\"\"\n--> 142         self._set_params('steps', **kwargs)\n        self._set_params = <bound method _BaseComposition._set_params of Pi...ghbors=1, p=1,\n           weights='distance'))])>\n        kwargs = {'n_neighbors': 1}\n    143         return self\n    144 \n    145     def _validate_steps(self):\n    146         names, estimators = zip(*self.steps)\n\n...........................................................................\n/home/aaron/.virtualenvs/CSc177/lib/python3.5/site-packages/sklearn/utils/metaestimators.py in _set_params(self=Pipeline(memory=None,\n     steps=[('smoteenn', S...ighbors=1, p=1,\n           weights='distance'))]), attr='steps', **params={'n_neighbors': 1})\n     44         names, _ = zip(*getattr(self, attr))\n     45         for name in list(six.iterkeys(params)):\n     46             if '__' not in name and name in names:\n     47                 self._replace_estimator(attr, name, params.pop(name))\n     48         # 3. Step parameters and other initilisation arguments\n---> 49         super(_BaseComposition, self).set_params(**params)\n        self.set_params = <bound method Pipeline.set_params of Pipeline(me...ghbors=1, p=1,\n           weights='distance'))])>\n        params = {'n_neighbors': 1}\n     50         return self\n     51 \n     52     def _replace_estimator(self, attr, name, new_val):\n     53         # assumes `name` is a valid estimator name\n\n...........................................................................\n/home/aaron/.virtualenvs/CSc177/lib/python3.5/site-packages/sklearn/base.py in set_params(self=Pipeline(memory=None,\n     steps=[('smoteenn', S...ighbors=1, p=1,\n           weights='distance'))]), **params={'n_neighbors': 1})\n    269             key, delim, sub_key = key.partition('__')\n    270             if key not in valid_params:\n    271                 raise ValueError('Invalid parameter %s for estimator %s. '\n    272                                  'Check the list of available parameters '\n    273                                  'with `estimator.get_params().keys()`.' %\n--> 274                                  (key, self))\n        key = 'n_neighbors'\n        self = Pipeline(memory=None,\n     steps=[('smoteenn', S...ighbors=1, p=1,\n           weights='distance'))])\n    275 \n    276             if delim:\n    277                 nested_params[key][sub_key] = value\n    278             else:\n\nValueError: Invalid parameter n_neighbors for estimator Pipeline(memory=None,\n     steps=[('smoteenn', SMOTEENN(enn=None, k=None, kind_enn=None, kind_smote=None, m=None,\n     n_jobs=None, n_neighbors=None, out_step=None, random_state=None,\n     ratio='auto', size_ngh=None,\n     smote=SMOTE(k=None, k_neighbors=5, kind='regular', m=None, m_neighbors=10, n_jobs=1,\n   out_step=0.5, ra...wski',\n           metric_params=None, n_jobs=1, n_neighbors=1, p=1,\n           weights='distance'))]). Check the list of available parameters with `estimator.get_params().keys()`.\n___________________________________________________________________________",
     "output_type": "error",
     "traceback": [
      "\u001b[0;31m---------------------------------------------------------------------------\u001b[0m",
      "\u001b[0;31mRemoteTraceback\u001b[0m                           Traceback (most recent call last)",
      "\u001b[0;31mRemoteTraceback\u001b[0m: \n\"\"\"\nTraceback (most recent call last):\n  File \"/home/aaron/.virtualenvs/CSc177/lib/python3.5/site-packages/sklearn/externals/joblib/_parallel_backends.py\", line 350, in __call__\n    return self.func(*args, **kwargs)\n  File \"/home/aaron/.virtualenvs/CSc177/lib/python3.5/site-packages/sklearn/externals/joblib/parallel.py\", line 131, in __call__\n    return [func(*args, **kwargs) for func, args, kwargs in self.items]\n  File \"/home/aaron/.virtualenvs/CSc177/lib/python3.5/site-packages/sklearn/externals/joblib/parallel.py\", line 131, in <listcomp>\n    return [func(*args, **kwargs) for func, args, kwargs in self.items]\n  File \"/home/aaron/.virtualenvs/CSc177/lib/python3.5/site-packages/sklearn/model_selection/_validation.py\", line 444, in _fit_and_score\n    estimator.set_params(**parameters)\n  File \"/home/aaron/.virtualenvs/CSc177/lib/python3.5/site-packages/sklearn/pipeline.py\", line 142, in set_params\n    self._set_params('steps', **kwargs)\n  File \"/home/aaron/.virtualenvs/CSc177/lib/python3.5/site-packages/sklearn/utils/metaestimators.py\", line 49, in _set_params\n    super(_BaseComposition, self).set_params(**params)\n  File \"/home/aaron/.virtualenvs/CSc177/lib/python3.5/site-packages/sklearn/base.py\", line 274, in set_params\n    (key, self))\nValueError: Invalid parameter n_neighbors for estimator Pipeline(memory=None,\n     steps=[('smoteenn', SMOTEENN(enn=None, k=None, kind_enn=None, kind_smote=None, m=None,\n     n_jobs=None, n_neighbors=None, out_step=None, random_state=None,\n     ratio='auto', size_ngh=None,\n     smote=SMOTE(k=None, k_neighbors=5, kind='regular', m=None, m_neighbors=10, n_jobs=1,\n   out_step=0.5, ra...wski',\n           metric_params=None, n_jobs=1, n_neighbors=1, p=1,\n           weights='distance'))]). Check the list of available parameters with `estimator.get_params().keys()`.\n\nDuring handling of the above exception, another exception occurred:\n\nTraceback (most recent call last):\n  File \"/usr/lib/python3.5/multiprocessing/pool.py\", line 119, in worker\n    result = (True, func(*args, **kwds))\n  File \"/home/aaron/.virtualenvs/CSc177/lib/python3.5/site-packages/sklearn/externals/joblib/_parallel_backends.py\", line 359, in __call__\n    raise TransportableException(text, e_type)\nsklearn.externals.joblib.my_exceptions.TransportableException: TransportableException\n___________________________________________________________________________\nValueError                                         Wed Apr 25 20:52:39 2018\nPID: 7230         Python 3.5.3: /home/aaron/.virtualenvs/CSc177/bin/python3\n...........................................................................\n/home/aaron/.virtualenvs/CSc177/lib/python3.5/site-packages/sklearn/externals/joblib/parallel.py in __call__(self=<sklearn.externals.joblib.parallel.BatchedCalls object>)\n    126     def __init__(self, iterator_slice):\n    127         self.items = list(iterator_slice)\n    128         self._size = len(self.items)\n    129 \n    130     def __call__(self):\n--> 131         return [func(*args, **kwargs) for func, args, kwargs in self.items]\n        self.items = [(<function _fit_and_score>, (Pipeline(memory=None,\n     steps=[('smoteenn', S...ighbors=1, p=1,\n           weights='distance'))]), memmap([[-0.09733547, -0.117291  , -0.11123174, ...-0.03722762,\n         -0.11748239, -0.09951198]]), 19050    0\n17662    0\n17878    0\n7365     0\n8242...795    0\nName: top10, Length: 15937, dtype: int64, {'score': make_scorer(f1_score, pos_label=None, average=weighted)}, array([ 3175,  3176,  3178, ..., 15934, 15935, 15936]), array([   0,    1,    2, ..., 3376, 3384, 3404]), 1, {'n_neighbors': 1}), {'error_score': 'raise', 'fit_params': {}, 'return_n_test_samples': True, 'return_parameters': False, 'return_times': True, 'return_train_score': 'warn'})]\n    132 \n    133     def __len__(self):\n    134         return self._size\n    135 \n\n...........................................................................\n/home/aaron/.virtualenvs/CSc177/lib/python3.5/site-packages/sklearn/externals/joblib/parallel.py in <listcomp>(.0=<list_iterator object>)\n    126     def __init__(self, iterator_slice):\n    127         self.items = list(iterator_slice)\n    128         self._size = len(self.items)\n    129 \n    130     def __call__(self):\n--> 131         return [func(*args, **kwargs) for func, args, kwargs in self.items]\n        func = <function _fit_and_score>\n        args = (Pipeline(memory=None,\n     steps=[('smoteenn', S...ighbors=1, p=1,\n           weights='distance'))]), memmap([[-0.09733547, -0.117291  , -0.11123174, ...-0.03722762,\n         -0.11748239, -0.09951198]]), 19050    0\n17662    0\n17878    0\n7365     0\n8242...795    0\nName: top10, Length: 15937, dtype: int64, {'score': make_scorer(f1_score, pos_label=None, average=weighted)}, array([ 3175,  3176,  3178, ..., 15934, 15935, 15936]), array([   0,    1,    2, ..., 3376, 3384, 3404]), 1, {'n_neighbors': 1})\n        kwargs = {'error_score': 'raise', 'fit_params': {}, 'return_n_test_samples': True, 'return_parameters': False, 'return_times': True, 'return_train_score': 'warn'}\n    132 \n    133     def __len__(self):\n    134         return self._size\n    135 \n\n...........................................................................\n/home/aaron/.virtualenvs/CSc177/lib/python3.5/site-packages/sklearn/model_selection/_validation.py in _fit_and_score(estimator=Pipeline(memory=None,\n     steps=[('smoteenn', S...ighbors=1, p=1,\n           weights='distance'))]), X=memmap([[-0.09733547, -0.117291  , -0.11123174, ...-0.03722762,\n         -0.11748239, -0.09951198]]), y=19050    0\n17662    0\n17878    0\n7365     0\n8242...795    0\nName: top10, Length: 15937, dtype: int64, scorer={'score': make_scorer(f1_score, pos_label=None, average=weighted)}, train=array([ 3175,  3176,  3178, ..., 15934, 15935, 15936]), test=array([   0,    1,    2, ..., 3376, 3384, 3404]), verbose=1, parameters={'n_neighbors': 1}, fit_params={}, return_train_score='warn', return_parameters=False, return_n_test_samples=True, return_times=True, error_score='raise')\n    439                       for k, v in fit_params.items()])\n    440 \n    441     test_scores = {}\n    442     train_scores = {}\n    443     if parameters is not None:\n--> 444         estimator.set_params(**parameters)\n        estimator.set_params = <bound method Pipeline.set_params of Pipeline(me...ghbors=1, p=1,\n           weights='distance'))])>\n        parameters = {'n_neighbors': 1}\n    445 \n    446     start_time = time.time()\n    447 \n    448     X_train, y_train = _safe_split(estimator, X, y, train)\n\n...........................................................................\n/home/aaron/.virtualenvs/CSc177/lib/python3.5/site-packages/sklearn/pipeline.py in set_params(self=Pipeline(memory=None,\n     steps=[('smoteenn', S...ighbors=1, p=1,\n           weights='distance'))]), **kwargs={'n_neighbors': 1})\n    137 \n    138         Returns\n    139         -------\n    140         self\n    141         \"\"\"\n--> 142         self._set_params('steps', **kwargs)\n        self._set_params = <bound method _BaseComposition._set_params of Pi...ghbors=1, p=1,\n           weights='distance'))])>\n        kwargs = {'n_neighbors': 1}\n    143         return self\n    144 \n    145     def _validate_steps(self):\n    146         names, estimators = zip(*self.steps)\n\n...........................................................................\n/home/aaron/.virtualenvs/CSc177/lib/python3.5/site-packages/sklearn/utils/metaestimators.py in _set_params(self=Pipeline(memory=None,\n     steps=[('smoteenn', S...ighbors=1, p=1,\n           weights='distance'))]), attr='steps', **params={'n_neighbors': 1})\n     44         names, _ = zip(*getattr(self, attr))\n     45         for name in list(six.iterkeys(params)):\n     46             if '__' not in name and name in names:\n     47                 self._replace_estimator(attr, name, params.pop(name))\n     48         # 3. Step parameters and other initilisation arguments\n---> 49         super(_BaseComposition, self).set_params(**params)\n        self.set_params = <bound method Pipeline.set_params of Pipeline(me...ghbors=1, p=1,\n           weights='distance'))])>\n        params = {'n_neighbors': 1}\n     50         return self\n     51 \n     52     def _replace_estimator(self, attr, name, new_val):\n     53         # assumes `name` is a valid estimator name\n\n...........................................................................\n/home/aaron/.virtualenvs/CSc177/lib/python3.5/site-packages/sklearn/base.py in set_params(self=Pipeline(memory=None,\n     steps=[('smoteenn', S...ighbors=1, p=1,\n           weights='distance'))]), **params={'n_neighbors': 1})\n    269             key, delim, sub_key = key.partition('__')\n    270             if key not in valid_params:\n    271                 raise ValueError('Invalid parameter %s for estimator %s. '\n    272                                  'Check the list of available parameters '\n    273                                  'with `estimator.get_params().keys()`.' %\n--> 274                                  (key, self))\n        key = 'n_neighbors'\n        self = Pipeline(memory=None,\n     steps=[('smoteenn', S...ighbors=1, p=1,\n           weights='distance'))])\n    275 \n    276             if delim:\n    277                 nested_params[key][sub_key] = value\n    278             else:\n\nValueError: Invalid parameter n_neighbors for estimator Pipeline(memory=None,\n     steps=[('smoteenn', SMOTEENN(enn=None, k=None, kind_enn=None, kind_smote=None, m=None,\n     n_jobs=None, n_neighbors=None, out_step=None, random_state=None,\n     ratio='auto', size_ngh=None,\n     smote=SMOTE(k=None, k_neighbors=5, kind='regular', m=None, m_neighbors=10, n_jobs=1,\n   out_step=0.5, ra...wski',\n           metric_params=None, n_jobs=1, n_neighbors=1, p=1,\n           weights='distance'))]). Check the list of available parameters with `estimator.get_params().keys()`.\n___________________________________________________________________________\n\"\"\"",
      "\nThe above exception was the direct cause of the following exception:\n",
      "\u001b[0;31mTransportableException\u001b[0m                    Traceback (most recent call last)",
      "\u001b[0;32m~/.virtualenvs/CSc177/lib/python3.5/site-packages/sklearn/externals/joblib/parallel.py\u001b[0m in \u001b[0;36mretrieve\u001b[0;34m(self)\u001b[0m\n\u001b[1;32m    698\u001b[0m                 \u001b[0;32mif\u001b[0m \u001b[0mgetattr\u001b[0m\u001b[0;34m(\u001b[0m\u001b[0mself\u001b[0m\u001b[0;34m.\u001b[0m\u001b[0m_backend\u001b[0m\u001b[0;34m,\u001b[0m \u001b[0;34m'supports_timeout'\u001b[0m\u001b[0;34m,\u001b[0m \u001b[0;32mFalse\u001b[0m\u001b[0;34m)\u001b[0m\u001b[0;34m:\u001b[0m\u001b[0;34m\u001b[0m\u001b[0m\n\u001b[0;32m--> 699\u001b[0;31m                     \u001b[0mself\u001b[0m\u001b[0;34m.\u001b[0m\u001b[0m_output\u001b[0m\u001b[0;34m.\u001b[0m\u001b[0mextend\u001b[0m\u001b[0;34m(\u001b[0m\u001b[0mjob\u001b[0m\u001b[0;34m.\u001b[0m\u001b[0mget\u001b[0m\u001b[0;34m(\u001b[0m\u001b[0mtimeout\u001b[0m\u001b[0;34m=\u001b[0m\u001b[0mself\u001b[0m\u001b[0;34m.\u001b[0m\u001b[0mtimeout\u001b[0m\u001b[0;34m)\u001b[0m\u001b[0;34m)\u001b[0m\u001b[0;34m\u001b[0m\u001b[0m\n\u001b[0m\u001b[1;32m    700\u001b[0m                 \u001b[0;32melse\u001b[0m\u001b[0;34m:\u001b[0m\u001b[0;34m\u001b[0m\u001b[0m\n",
      "\u001b[0;32m/usr/lib/python3.5/multiprocessing/pool.py\u001b[0m in \u001b[0;36mget\u001b[0;34m(self, timeout)\u001b[0m\n\u001b[1;32m    607\u001b[0m         \u001b[0;32melse\u001b[0m\u001b[0;34m:\u001b[0m\u001b[0;34m\u001b[0m\u001b[0m\n\u001b[0;32m--> 608\u001b[0;31m             \u001b[0;32mraise\u001b[0m \u001b[0mself\u001b[0m\u001b[0;34m.\u001b[0m\u001b[0m_value\u001b[0m\u001b[0;34m\u001b[0m\u001b[0m\n\u001b[0m\u001b[1;32m    609\u001b[0m \u001b[0;34m\u001b[0m\u001b[0m\n",
      "\u001b[0;31mTransportableException\u001b[0m: TransportableException\n___________________________________________________________________________\nValueError                                         Wed Apr 25 20:52:39 2018\nPID: 7230         Python 3.5.3: /home/aaron/.virtualenvs/CSc177/bin/python3\n...........................................................................\n/home/aaron/.virtualenvs/CSc177/lib/python3.5/site-packages/sklearn/externals/joblib/parallel.py in __call__(self=<sklearn.externals.joblib.parallel.BatchedCalls object>)\n    126     def __init__(self, iterator_slice):\n    127         self.items = list(iterator_slice)\n    128         self._size = len(self.items)\n    129 \n    130     def __call__(self):\n--> 131         return [func(*args, **kwargs) for func, args, kwargs in self.items]\n        self.items = [(<function _fit_and_score>, (Pipeline(memory=None,\n     steps=[('smoteenn', S...ighbors=1, p=1,\n           weights='distance'))]), memmap([[-0.09733547, -0.117291  , -0.11123174, ...-0.03722762,\n         -0.11748239, -0.09951198]]), 19050    0\n17662    0\n17878    0\n7365     0\n8242...795    0\nName: top10, Length: 15937, dtype: int64, {'score': make_scorer(f1_score, pos_label=None, average=weighted)}, array([ 3175,  3176,  3178, ..., 15934, 15935, 15936]), array([   0,    1,    2, ..., 3376, 3384, 3404]), 1, {'n_neighbors': 1}), {'error_score': 'raise', 'fit_params': {}, 'return_n_test_samples': True, 'return_parameters': False, 'return_times': True, 'return_train_score': 'warn'})]\n    132 \n    133     def __len__(self):\n    134         return self._size\n    135 \n\n...........................................................................\n/home/aaron/.virtualenvs/CSc177/lib/python3.5/site-packages/sklearn/externals/joblib/parallel.py in <listcomp>(.0=<list_iterator object>)\n    126     def __init__(self, iterator_slice):\n    127         self.items = list(iterator_slice)\n    128         self._size = len(self.items)\n    129 \n    130     def __call__(self):\n--> 131         return [func(*args, **kwargs) for func, args, kwargs in self.items]\n        func = <function _fit_and_score>\n        args = (Pipeline(memory=None,\n     steps=[('smoteenn', S...ighbors=1, p=1,\n           weights='distance'))]), memmap([[-0.09733547, -0.117291  , -0.11123174, ...-0.03722762,\n         -0.11748239, -0.09951198]]), 19050    0\n17662    0\n17878    0\n7365     0\n8242...795    0\nName: top10, Length: 15937, dtype: int64, {'score': make_scorer(f1_score, pos_label=None, average=weighted)}, array([ 3175,  3176,  3178, ..., 15934, 15935, 15936]), array([   0,    1,    2, ..., 3376, 3384, 3404]), 1, {'n_neighbors': 1})\n        kwargs = {'error_score': 'raise', 'fit_params': {}, 'return_n_test_samples': True, 'return_parameters': False, 'return_times': True, 'return_train_score': 'warn'}\n    132 \n    133     def __len__(self):\n    134         return self._size\n    135 \n\n...........................................................................\n/home/aaron/.virtualenvs/CSc177/lib/python3.5/site-packages/sklearn/model_selection/_validation.py in _fit_and_score(estimator=Pipeline(memory=None,\n     steps=[('smoteenn', S...ighbors=1, p=1,\n           weights='distance'))]), X=memmap([[-0.09733547, -0.117291  , -0.11123174, ...-0.03722762,\n         -0.11748239, -0.09951198]]), y=19050    0\n17662    0\n17878    0\n7365     0\n8242...795    0\nName: top10, Length: 15937, dtype: int64, scorer={'score': make_scorer(f1_score, pos_label=None, average=weighted)}, train=array([ 3175,  3176,  3178, ..., 15934, 15935, 15936]), test=array([   0,    1,    2, ..., 3376, 3384, 3404]), verbose=1, parameters={'n_neighbors': 1}, fit_params={}, return_train_score='warn', return_parameters=False, return_n_test_samples=True, return_times=True, error_score='raise')\n    439                       for k, v in fit_params.items()])\n    440 \n    441     test_scores = {}\n    442     train_scores = {}\n    443     if parameters is not None:\n--> 444         estimator.set_params(**parameters)\n        estimator.set_params = <bound method Pipeline.set_params of Pipeline(me...ghbors=1, p=1,\n           weights='distance'))])>\n        parameters = {'n_neighbors': 1}\n    445 \n    446     start_time = time.time()\n    447 \n    448     X_train, y_train = _safe_split(estimator, X, y, train)\n\n...........................................................................\n/home/aaron/.virtualenvs/CSc177/lib/python3.5/site-packages/sklearn/pipeline.py in set_params(self=Pipeline(memory=None,\n     steps=[('smoteenn', S...ighbors=1, p=1,\n           weights='distance'))]), **kwargs={'n_neighbors': 1})\n    137 \n    138         Returns\n    139         -------\n    140         self\n    141         \"\"\"\n--> 142         self._set_params('steps', **kwargs)\n        self._set_params = <bound method _BaseComposition._set_params of Pi...ghbors=1, p=1,\n           weights='distance'))])>\n        kwargs = {'n_neighbors': 1}\n    143         return self\n    144 \n    145     def _validate_steps(self):\n    146         names, estimators = zip(*self.steps)\n\n...........................................................................\n/home/aaron/.virtualenvs/CSc177/lib/python3.5/site-packages/sklearn/utils/metaestimators.py in _set_params(self=Pipeline(memory=None,\n     steps=[('smoteenn', S...ighbors=1, p=1,\n           weights='distance'))]), attr='steps', **params={'n_neighbors': 1})\n     44         names, _ = zip(*getattr(self, attr))\n     45         for name in list(six.iterkeys(params)):\n     46             if '__' not in name and name in names:\n     47                 self._replace_estimator(attr, name, params.pop(name))\n     48         # 3. Step parameters and other initilisation arguments\n---> 49         super(_BaseComposition, self).set_params(**params)\n        self.set_params = <bound method Pipeline.set_params of Pipeline(me...ghbors=1, p=1,\n           weights='distance'))])>\n        params = {'n_neighbors': 1}\n     50         return self\n     51 \n     52     def _replace_estimator(self, attr, name, new_val):\n     53         # assumes `name` is a valid estimator name\n\n...........................................................................\n/home/aaron/.virtualenvs/CSc177/lib/python3.5/site-packages/sklearn/base.py in set_params(self=Pipeline(memory=None,\n     steps=[('smoteenn', S...ighbors=1, p=1,\n           weights='distance'))]), **params={'n_neighbors': 1})\n    269             key, delim, sub_key = key.partition('__')\n    270             if key not in valid_params:\n    271                 raise ValueError('Invalid parameter %s for estimator %s. '\n    272                                  'Check the list of available parameters '\n    273                                  'with `estimator.get_params().keys()`.' %\n--> 274                                  (key, self))\n        key = 'n_neighbors'\n        self = Pipeline(memory=None,\n     steps=[('smoteenn', S...ighbors=1, p=1,\n           weights='distance'))])\n    275 \n    276             if delim:\n    277                 nested_params[key][sub_key] = value\n    278             else:\n\nValueError: Invalid parameter n_neighbors for estimator Pipeline(memory=None,\n     steps=[('smoteenn', SMOTEENN(enn=None, k=None, kind_enn=None, kind_smote=None, m=None,\n     n_jobs=None, n_neighbors=None, out_step=None, random_state=None,\n     ratio='auto', size_ngh=None,\n     smote=SMOTE(k=None, k_neighbors=5, kind='regular', m=None, m_neighbors=10, n_jobs=1,\n   out_step=0.5, ra...wski',\n           metric_params=None, n_jobs=1, n_neighbors=1, p=1,\n           weights='distance'))]). Check the list of available parameters with `estimator.get_params().keys()`.\n___________________________________________________________________________",
      "\nDuring handling of the above exception, another exception occurred:\n",
      "\u001b[0;31mJoblibValueError\u001b[0m                          Traceback (most recent call last)",
      "\u001b[0;32m<ipython-input-60-51b06374c5cb>\u001b[0m in \u001b[0;36m<module>\u001b[0;34m()\u001b[0m\n\u001b[0;32m----> 1\u001b[0;31m \u001b[0mknn_grid_search_cv\u001b[0m\u001b[0;34m.\u001b[0m\u001b[0mfit\u001b[0m\u001b[0;34m(\u001b[0m\u001b[0mX_train_scaled\u001b[0m\u001b[0;34m,\u001b[0m \u001b[0my_train\u001b[0m\u001b[0;34m)\u001b[0m\u001b[0;34m\u001b[0m\u001b[0m\n\u001b[0m",
      "\u001b[0;32m~/.virtualenvs/CSc177/lib/python3.5/site-packages/sklearn/model_selection/_search.py\u001b[0m in \u001b[0;36mfit\u001b[0;34m(self, X, y, groups, **fit_params)\u001b[0m\n\u001b[1;32m    637\u001b[0m                                   error_score=self.error_score)\n\u001b[1;32m    638\u001b[0m           for parameters, (train, test) in product(candidate_params,\n\u001b[0;32m--> 639\u001b[0;31m                                                    cv.split(X, y, groups)))\n\u001b[0m\u001b[1;32m    640\u001b[0m \u001b[0;34m\u001b[0m\u001b[0m\n\u001b[1;32m    641\u001b[0m         \u001b[0;31m# if one choose to see train score, \"out\" will contain train score info\u001b[0m\u001b[0;34m\u001b[0m\u001b[0;34m\u001b[0m\u001b[0m\n",
      "\u001b[0;32m~/.virtualenvs/CSc177/lib/python3.5/site-packages/sklearn/externals/joblib/parallel.py\u001b[0m in \u001b[0;36m__call__\u001b[0;34m(self, iterable)\u001b[0m\n\u001b[1;32m    787\u001b[0m                 \u001b[0;31m# consumption.\u001b[0m\u001b[0;34m\u001b[0m\u001b[0;34m\u001b[0m\u001b[0m\n\u001b[1;32m    788\u001b[0m                 \u001b[0mself\u001b[0m\u001b[0;34m.\u001b[0m\u001b[0m_iterating\u001b[0m \u001b[0;34m=\u001b[0m \u001b[0;32mFalse\u001b[0m\u001b[0;34m\u001b[0m\u001b[0m\n\u001b[0;32m--> 789\u001b[0;31m             \u001b[0mself\u001b[0m\u001b[0;34m.\u001b[0m\u001b[0mretrieve\u001b[0m\u001b[0;34m(\u001b[0m\u001b[0;34m)\u001b[0m\u001b[0;34m\u001b[0m\u001b[0m\n\u001b[0m\u001b[1;32m    790\u001b[0m             \u001b[0;31m# Make sure that we get a last message telling us we are done\u001b[0m\u001b[0;34m\u001b[0m\u001b[0;34m\u001b[0m\u001b[0m\n\u001b[1;32m    791\u001b[0m             \u001b[0melapsed_time\u001b[0m \u001b[0;34m=\u001b[0m \u001b[0mtime\u001b[0m\u001b[0;34m.\u001b[0m\u001b[0mtime\u001b[0m\u001b[0;34m(\u001b[0m\u001b[0;34m)\u001b[0m \u001b[0;34m-\u001b[0m \u001b[0mself\u001b[0m\u001b[0;34m.\u001b[0m\u001b[0m_start_time\u001b[0m\u001b[0;34m\u001b[0m\u001b[0m\n",
      "\u001b[0;32m~/.virtualenvs/CSc177/lib/python3.5/site-packages/sklearn/externals/joblib/parallel.py\u001b[0m in \u001b[0;36mretrieve\u001b[0;34m(self)\u001b[0m\n\u001b[1;32m    738\u001b[0m                     \u001b[0mexception\u001b[0m \u001b[0;34m=\u001b[0m \u001b[0mexception_type\u001b[0m\u001b[0;34m(\u001b[0m\u001b[0mreport\u001b[0m\u001b[0;34m)\u001b[0m\u001b[0;34m\u001b[0m\u001b[0m\n\u001b[1;32m    739\u001b[0m \u001b[0;34m\u001b[0m\u001b[0m\n\u001b[0;32m--> 740\u001b[0;31m                     \u001b[0;32mraise\u001b[0m \u001b[0mexception\u001b[0m\u001b[0;34m\u001b[0m\u001b[0m\n\u001b[0m\u001b[1;32m    741\u001b[0m \u001b[0;34m\u001b[0m\u001b[0m\n\u001b[1;32m    742\u001b[0m     \u001b[0;32mdef\u001b[0m \u001b[0m__call__\u001b[0m\u001b[0;34m(\u001b[0m\u001b[0mself\u001b[0m\u001b[0;34m,\u001b[0m \u001b[0miterable\u001b[0m\u001b[0;34m)\u001b[0m\u001b[0;34m:\u001b[0m\u001b[0;34m\u001b[0m\u001b[0m\n",
      "\u001b[0;31mJoblibValueError\u001b[0m: JoblibValueError\n___________________________________________________________________________\nMultiprocessing exception:\n...........................................................................\n/usr/lib/python3.5/runpy.py in _run_module_as_main(mod_name='ipykernel_launcher', alter_argv=1)\n    188         sys.exit(msg)\n    189     main_globals = sys.modules[\"__main__\"].__dict__\n    190     if alter_argv:\n    191         sys.argv[0] = mod_spec.origin\n    192     return _run_code(code, main_globals, None,\n--> 193                      \"__main__\", mod_spec)\n        mod_spec = ModuleSpec(name='ipykernel_launcher', loader=<_f...b/python3.5/site-packages/ipykernel_launcher.py')\n    194 \n    195 def run_module(mod_name, init_globals=None,\n    196                run_name=None, alter_sys=False):\n    197     \"\"\"Execute a module's code without importing it\n\n...........................................................................\n/usr/lib/python3.5/runpy.py in _run_code(code=<code object <module> at 0x7f7e3890a5d0, file \"/...3.5/site-packages/ipykernel_launcher.py\", line 5>, run_globals={'__builtins__': <module 'builtins' (built-in)>, '__cached__': '/home/aaron/.virtualenvs/CSc177/lib/python3.5/si...ges/__pycache__/ipykernel_launcher.cpython-35.pyc', '__doc__': 'Entry point for launching an IPython kernel.\\n\\nTh...orts until\\nafter removing the cwd from sys.path.\\n', '__file__': '/home/aaron/.virtualenvs/CSc177/lib/python3.5/site-packages/ipykernel_launcher.py', '__loader__': <_frozen_importlib_external.SourceFileLoader object>, '__name__': '__main__', '__package__': '', '__spec__': ModuleSpec(name='ipykernel_launcher', loader=<_f...b/python3.5/site-packages/ipykernel_launcher.py'), 'app': <module 'ipykernel.kernelapp' from '/home/aaron/.../python3.5/site-packages/ipykernel/kernelapp.py'>, 'sys': <module 'sys' (built-in)>}, init_globals=None, mod_name='__main__', mod_spec=ModuleSpec(name='ipykernel_launcher', loader=<_f...b/python3.5/site-packages/ipykernel_launcher.py'), pkg_name='', script_name=None)\n     80                        __cached__ = cached,\n     81                        __doc__ = None,\n     82                        __loader__ = loader,\n     83                        __package__ = pkg_name,\n     84                        __spec__ = mod_spec)\n---> 85     exec(code, run_globals)\n        code = <code object <module> at 0x7f7e3890a5d0, file \"/...3.5/site-packages/ipykernel_launcher.py\", line 5>\n        run_globals = {'__builtins__': <module 'builtins' (built-in)>, '__cached__': '/home/aaron/.virtualenvs/CSc177/lib/python3.5/si...ges/__pycache__/ipykernel_launcher.cpython-35.pyc', '__doc__': 'Entry point for launching an IPython kernel.\\n\\nTh...orts until\\nafter removing the cwd from sys.path.\\n', '__file__': '/home/aaron/.virtualenvs/CSc177/lib/python3.5/site-packages/ipykernel_launcher.py', '__loader__': <_frozen_importlib_external.SourceFileLoader object>, '__name__': '__main__', '__package__': '', '__spec__': ModuleSpec(name='ipykernel_launcher', loader=<_f...b/python3.5/site-packages/ipykernel_launcher.py'), 'app': <module 'ipykernel.kernelapp' from '/home/aaron/.../python3.5/site-packages/ipykernel/kernelapp.py'>, 'sys': <module 'sys' (built-in)>}\n     86     return run_globals\n     87 \n     88 def _run_module_code(code, init_globals=None,\n     89                     mod_name=None, mod_spec=None,\n\n...........................................................................\n/home/aaron/.virtualenvs/CSc177/lib/python3.5/site-packages/ipykernel_launcher.py in <module>()\n     11     # This is added back by InteractiveShellApp.init_path()\n     12     if sys.path[0] == '':\n     13         del sys.path[0]\n     14 \n     15     from ipykernel import kernelapp as app\n---> 16     app.launch_new_instance()\n\n...........................................................................\n/home/aaron/.virtualenvs/CSc177/lib/python3.5/site-packages/traitlets/config/application.py in launch_instance(cls=<class 'ipykernel.kernelapp.IPKernelApp'>, argv=None, **kwargs={})\n    653 \n    654         If a global instance already exists, this reinitializes and starts it\n    655         \"\"\"\n    656         app = cls.instance(**kwargs)\n    657         app.initialize(argv)\n--> 658         app.start()\n        app.start = <bound method IPKernelApp.start of <ipykernel.kernelapp.IPKernelApp object>>\n    659 \n    660 #-----------------------------------------------------------------------------\n    661 # utility functions, for convenience\n    662 #-----------------------------------------------------------------------------\n\n...........................................................................\n/home/aaron/.virtualenvs/CSc177/lib/python3.5/site-packages/ipykernel/kernelapp.py in start(self=<ipykernel.kernelapp.IPKernelApp object>)\n    473         if self.poller is not None:\n    474             self.poller.start()\n    475         self.kernel.start()\n    476         self.io_loop = ioloop.IOLoop.current()\n    477         try:\n--> 478             self.io_loop.start()\n        self.io_loop.start = <bound method ZMQIOLoop.start of <zmq.eventloop.ioloop.ZMQIOLoop object>>\n    479         except KeyboardInterrupt:\n    480             pass\n    481 \n    482 launch_new_instance = IPKernelApp.launch_instance\n\n...........................................................................\n/home/aaron/.virtualenvs/CSc177/lib/python3.5/site-packages/zmq/eventloop/ioloop.py in start(self=<zmq.eventloop.ioloop.ZMQIOLoop object>)\n    172             )\n    173         return loop\n    174     \n    175     def start(self):\n    176         try:\n--> 177             super(ZMQIOLoop, self).start()\n        self.start = <bound method ZMQIOLoop.start of <zmq.eventloop.ioloop.ZMQIOLoop object>>\n    178         except ZMQError as e:\n    179             if e.errno == ETERM:\n    180                 # quietly return on ETERM\n    181                 pass\n\n...........................................................................\n/home/aaron/.virtualenvs/CSc177/lib/python3.5/site-packages/tornado/ioloop.py in start(self=<zmq.eventloop.ioloop.ZMQIOLoop object>)\n    883                 self._events.update(event_pairs)\n    884                 while self._events:\n    885                     fd, events = self._events.popitem()\n    886                     try:\n    887                         fd_obj, handler_func = self._handlers[fd]\n--> 888                         handler_func(fd_obj, events)\n        handler_func = <function wrap.<locals>.null_wrapper>\n        fd_obj = <zmq.sugar.socket.Socket object>\n        events = 1\n    889                     except (OSError, IOError) as e:\n    890                         if errno_from_exception(e) == errno.EPIPE:\n    891                             # Happens when the client closes the connection\n    892                             pass\n\n...........................................................................\n/home/aaron/.virtualenvs/CSc177/lib/python3.5/site-packages/tornado/stack_context.py in null_wrapper(*args=(<zmq.sugar.socket.Socket object>, 1), **kwargs={})\n    272         # Fast path when there are no active contexts.\n    273         def null_wrapper(*args, **kwargs):\n    274             try:\n    275                 current_state = _state.contexts\n    276                 _state.contexts = cap_contexts[0]\n--> 277                 return fn(*args, **kwargs)\n        args = (<zmq.sugar.socket.Socket object>, 1)\n        kwargs = {}\n    278             finally:\n    279                 _state.contexts = current_state\n    280         null_wrapper._wrapped = True\n    281         return null_wrapper\n\n...........................................................................\n/home/aaron/.virtualenvs/CSc177/lib/python3.5/site-packages/zmq/eventloop/zmqstream.py in _handle_events(self=<zmq.eventloop.zmqstream.ZMQStream object>, fd=<zmq.sugar.socket.Socket object>, events=1)\n    435             # dispatch events:\n    436             if events & IOLoop.ERROR:\n    437                 gen_log.error(\"got POLLERR event on ZMQStream, which doesn't make sense\")\n    438                 return\n    439             if events & IOLoop.READ:\n--> 440                 self._handle_recv()\n        self._handle_recv = <bound method ZMQStream._handle_recv of <zmq.eventloop.zmqstream.ZMQStream object>>\n    441                 if not self.socket:\n    442                     return\n    443             if events & IOLoop.WRITE:\n    444                 self._handle_send()\n\n...........................................................................\n/home/aaron/.virtualenvs/CSc177/lib/python3.5/site-packages/zmq/eventloop/zmqstream.py in _handle_recv(self=<zmq.eventloop.zmqstream.ZMQStream object>)\n    467                 gen_log.error(\"RECV Error: %s\"%zmq.strerror(e.errno))\n    468         else:\n    469             if self._recv_callback:\n    470                 callback = self._recv_callback\n    471                 # self._recv_callback = None\n--> 472                 self._run_callback(callback, msg)\n        self._run_callback = <bound method ZMQStream._run_callback of <zmq.eventloop.zmqstream.ZMQStream object>>\n        callback = <function wrap.<locals>.null_wrapper>\n        msg = [<zmq.sugar.frame.Frame object>, <zmq.sugar.frame.Frame object>, <zmq.sugar.frame.Frame object>, <zmq.sugar.frame.Frame object>, <zmq.sugar.frame.Frame object>, <zmq.sugar.frame.Frame object>, <zmq.sugar.frame.Frame object>]\n    473                 \n    474         # self.update_state()\n    475         \n    476 \n\n...........................................................................\n/home/aaron/.virtualenvs/CSc177/lib/python3.5/site-packages/zmq/eventloop/zmqstream.py in _run_callback(self=<zmq.eventloop.zmqstream.ZMQStream object>, callback=<function wrap.<locals>.null_wrapper>, *args=([<zmq.sugar.frame.Frame object>, <zmq.sugar.frame.Frame object>, <zmq.sugar.frame.Frame object>, <zmq.sugar.frame.Frame object>, <zmq.sugar.frame.Frame object>, <zmq.sugar.frame.Frame object>, <zmq.sugar.frame.Frame object>],), **kwargs={})\n    409         close our socket.\"\"\"\n    410         try:\n    411             # Use a NullContext to ensure that all StackContexts are run\n    412             # inside our blanket exception handler rather than outside.\n    413             with stack_context.NullContext():\n--> 414                 callback(*args, **kwargs)\n        callback = <function wrap.<locals>.null_wrapper>\n        args = ([<zmq.sugar.frame.Frame object>, <zmq.sugar.frame.Frame object>, <zmq.sugar.frame.Frame object>, <zmq.sugar.frame.Frame object>, <zmq.sugar.frame.Frame object>, <zmq.sugar.frame.Frame object>, <zmq.sugar.frame.Frame object>],)\n        kwargs = {}\n    415         except:\n    416             gen_log.error(\"Uncaught exception, closing connection.\",\n    417                           exc_info=True)\n    418             # Close the socket on an uncaught exception from a user callback\n\n...........................................................................\n/home/aaron/.virtualenvs/CSc177/lib/python3.5/site-packages/tornado/stack_context.py in null_wrapper(*args=([<zmq.sugar.frame.Frame object>, <zmq.sugar.frame.Frame object>, <zmq.sugar.frame.Frame object>, <zmq.sugar.frame.Frame object>, <zmq.sugar.frame.Frame object>, <zmq.sugar.frame.Frame object>, <zmq.sugar.frame.Frame object>],), **kwargs={})\n    272         # Fast path when there are no active contexts.\n    273         def null_wrapper(*args, **kwargs):\n    274             try:\n    275                 current_state = _state.contexts\n    276                 _state.contexts = cap_contexts[0]\n--> 277                 return fn(*args, **kwargs)\n        args = ([<zmq.sugar.frame.Frame object>, <zmq.sugar.frame.Frame object>, <zmq.sugar.frame.Frame object>, <zmq.sugar.frame.Frame object>, <zmq.sugar.frame.Frame object>, <zmq.sugar.frame.Frame object>, <zmq.sugar.frame.Frame object>],)\n        kwargs = {}\n    278             finally:\n    279                 _state.contexts = current_state\n    280         null_wrapper._wrapped = True\n    281         return null_wrapper\n\n...........................................................................\n/home/aaron/.virtualenvs/CSc177/lib/python3.5/site-packages/ipykernel/kernelbase.py in dispatcher(msg=[<zmq.sugar.frame.Frame object>, <zmq.sugar.frame.Frame object>, <zmq.sugar.frame.Frame object>, <zmq.sugar.frame.Frame object>, <zmq.sugar.frame.Frame object>, <zmq.sugar.frame.Frame object>, <zmq.sugar.frame.Frame object>])\n    278         if self.control_stream:\n    279             self.control_stream.on_recv(self.dispatch_control, copy=False)\n    280 \n    281         def make_dispatcher(stream):\n    282             def dispatcher(msg):\n--> 283                 return self.dispatch_shell(stream, msg)\n        msg = [<zmq.sugar.frame.Frame object>, <zmq.sugar.frame.Frame object>, <zmq.sugar.frame.Frame object>, <zmq.sugar.frame.Frame object>, <zmq.sugar.frame.Frame object>, <zmq.sugar.frame.Frame object>, <zmq.sugar.frame.Frame object>]\n    284             return dispatcher\n    285 \n    286         for s in self.shell_streams:\n    287             s.on_recv(make_dispatcher(s), copy=False)\n\n...........................................................................\n/home/aaron/.virtualenvs/CSc177/lib/python3.5/site-packages/ipykernel/kernelbase.py in dispatch_shell(self=<ipykernel.ipkernel.IPythonKernel object>, stream=<zmq.eventloop.zmqstream.ZMQStream object>, msg={'buffers': [], 'content': {'allow_stdin': True, 'code': 'knn_grid_search_cv.fit(X_train_scaled, y_train)', 'silent': False, 'stop_on_error': True, 'store_history': True, 'user_expressions': {}}, 'header': {'date': datetime.datetime(2018, 4, 26, 3, 52, 39, 20823, tzinfo=tzutc()), 'msg_id': '66AE4D18F05D4A76B0AA5F6EAC3F5260', 'msg_type': 'execute_request', 'session': '95E35BA5718A4F9F8F426EFBBD8A2FC3', 'username': 'username', 'version': '5.2'}, 'metadata': {}, 'msg_id': '66AE4D18F05D4A76B0AA5F6EAC3F5260', 'msg_type': 'execute_request', 'parent_header': {}})\n    228             self.log.warn(\"Unknown message type: %r\", msg_type)\n    229         else:\n    230             self.log.debug(\"%s: %s\", msg_type, msg)\n    231             self.pre_handler_hook()\n    232             try:\n--> 233                 handler(stream, idents, msg)\n        handler = <bound method Kernel.execute_request of <ipykernel.ipkernel.IPythonKernel object>>\n        stream = <zmq.eventloop.zmqstream.ZMQStream object>\n        idents = [b'95E35BA5718A4F9F8F426EFBBD8A2FC3']\n        msg = {'buffers': [], 'content': {'allow_stdin': True, 'code': 'knn_grid_search_cv.fit(X_train_scaled, y_train)', 'silent': False, 'stop_on_error': True, 'store_history': True, 'user_expressions': {}}, 'header': {'date': datetime.datetime(2018, 4, 26, 3, 52, 39, 20823, tzinfo=tzutc()), 'msg_id': '66AE4D18F05D4A76B0AA5F6EAC3F5260', 'msg_type': 'execute_request', 'session': '95E35BA5718A4F9F8F426EFBBD8A2FC3', 'username': 'username', 'version': '5.2'}, 'metadata': {}, 'msg_id': '66AE4D18F05D4A76B0AA5F6EAC3F5260', 'msg_type': 'execute_request', 'parent_header': {}}\n    234             except Exception:\n    235                 self.log.error(\"Exception in message handler:\", exc_info=True)\n    236             finally:\n    237                 self.post_handler_hook()\n\n...........................................................................\n/home/aaron/.virtualenvs/CSc177/lib/python3.5/site-packages/ipykernel/kernelbase.py in execute_request(self=<ipykernel.ipkernel.IPythonKernel object>, stream=<zmq.eventloop.zmqstream.ZMQStream object>, ident=[b'95E35BA5718A4F9F8F426EFBBD8A2FC3'], parent={'buffers': [], 'content': {'allow_stdin': True, 'code': 'knn_grid_search_cv.fit(X_train_scaled, y_train)', 'silent': False, 'stop_on_error': True, 'store_history': True, 'user_expressions': {}}, 'header': {'date': datetime.datetime(2018, 4, 26, 3, 52, 39, 20823, tzinfo=tzutc()), 'msg_id': '66AE4D18F05D4A76B0AA5F6EAC3F5260', 'msg_type': 'execute_request', 'session': '95E35BA5718A4F9F8F426EFBBD8A2FC3', 'username': 'username', 'version': '5.2'}, 'metadata': {}, 'msg_id': '66AE4D18F05D4A76B0AA5F6EAC3F5260', 'msg_type': 'execute_request', 'parent_header': {}})\n    394         if not silent:\n    395             self.execution_count += 1\n    396             self._publish_execute_input(code, parent, self.execution_count)\n    397 \n    398         reply_content = self.do_execute(code, silent, store_history,\n--> 399                                         user_expressions, allow_stdin)\n        user_expressions = {}\n        allow_stdin = True\n    400 \n    401         # Flush output before sending the reply.\n    402         sys.stdout.flush()\n    403         sys.stderr.flush()\n\n...........................................................................\n/home/aaron/.virtualenvs/CSc177/lib/python3.5/site-packages/ipykernel/ipkernel.py in do_execute(self=<ipykernel.ipkernel.IPythonKernel object>, code='knn_grid_search_cv.fit(X_train_scaled, y_train)', silent=False, store_history=True, user_expressions={}, allow_stdin=True)\n    203 \n    204         self._forward_input(allow_stdin)\n    205 \n    206         reply_content = {}\n    207         try:\n--> 208             res = shell.run_cell(code, store_history=store_history, silent=silent)\n        res = undefined\n        shell.run_cell = <bound method ZMQInteractiveShell.run_cell of <ipykernel.zmqshell.ZMQInteractiveShell object>>\n        code = 'knn_grid_search_cv.fit(X_train_scaled, y_train)'\n        store_history = True\n        silent = False\n    209         finally:\n    210             self._restore_input()\n    211 \n    212         if res.error_before_exec is not None:\n\n...........................................................................\n/home/aaron/.virtualenvs/CSc177/lib/python3.5/site-packages/ipykernel/zmqshell.py in run_cell(self=<ipykernel.zmqshell.ZMQInteractiveShell object>, *args=('knn_grid_search_cv.fit(X_train_scaled, y_train)',), **kwargs={'silent': False, 'store_history': True})\n    532             )\n    533         self.payload_manager.write_payload(payload)\n    534 \n    535     def run_cell(self, *args, **kwargs):\n    536         self._last_traceback = None\n--> 537         return super(ZMQInteractiveShell, self).run_cell(*args, **kwargs)\n        self.run_cell = <bound method ZMQInteractiveShell.run_cell of <ipykernel.zmqshell.ZMQInteractiveShell object>>\n        args = ('knn_grid_search_cv.fit(X_train_scaled, y_train)',)\n        kwargs = {'silent': False, 'store_history': True}\n    538 \n    539     def _showtraceback(self, etype, evalue, stb):\n    540         # try to preserve ordering of tracebacks and print statements\n    541         sys.stdout.flush()\n\n...........................................................................\n/home/aaron/.virtualenvs/CSc177/lib/python3.5/site-packages/IPython/core/interactiveshell.py in run_cell(self=<ipykernel.zmqshell.ZMQInteractiveShell object>, raw_cell='knn_grid_search_cv.fit(X_train_scaled, y_train)', store_history=True, silent=False, shell_futures=True)\n   2723                 self.displayhook.exec_result = result\n   2724 \n   2725                 # Execute the user code\n   2726                 interactivity = \"none\" if silent else self.ast_node_interactivity\n   2727                 has_raised = self.run_ast_nodes(code_ast.body, cell_name,\n-> 2728                    interactivity=interactivity, compiler=compiler, result=result)\n        interactivity = 'last_expr'\n        compiler = <IPython.core.compilerop.CachingCompiler object>\n   2729                 \n   2730                 self.last_execution_succeeded = not has_raised\n   2731                 self.last_execution_result = result\n   2732 \n\n...........................................................................\n/home/aaron/.virtualenvs/CSc177/lib/python3.5/site-packages/IPython/core/interactiveshell.py in run_ast_nodes(self=<ipykernel.zmqshell.ZMQInteractiveShell object>, nodelist=[<_ast.Expr object>], cell_name='<ipython-input-60-51b06374c5cb>', interactivity='last', compiler=<IPython.core.compilerop.CachingCompiler object>, result=<ExecutionResult object at 7f7de95d2588, executi..._before_exec=None error_in_exec=None result=None>)\n   2851                     return True\n   2852 \n   2853             for i, node in enumerate(to_run_interactive):\n   2854                 mod = ast.Interactive([node])\n   2855                 code = compiler(mod, cell_name, \"single\")\n-> 2856                 if self.run_code(code, result):\n        self.run_code = <bound method InteractiveShell.run_code of <ipykernel.zmqshell.ZMQInteractiveShell object>>\n        code = <code object <module> at 0x7f7de9316a50, file \"<ipython-input-60-51b06374c5cb>\", line 1>\n        result = <ExecutionResult object at 7f7de95d2588, executi..._before_exec=None error_in_exec=None result=None>\n   2857                     return True\n   2858 \n   2859             # Flush softspace\n   2860             if softspace(sys.stdout, 0):\n\n...........................................................................\n/home/aaron/.virtualenvs/CSc177/lib/python3.5/site-packages/IPython/core/interactiveshell.py in run_code(self=<ipykernel.zmqshell.ZMQInteractiveShell object>, code_obj=<code object <module> at 0x7f7de9316a50, file \"<ipython-input-60-51b06374c5cb>\", line 1>, result=<ExecutionResult object at 7f7de95d2588, executi..._before_exec=None error_in_exec=None result=None>)\n   2905         outflag = True  # happens in more places, so it's easier as default\n   2906         try:\n   2907             try:\n   2908                 self.hooks.pre_run_code_hook()\n   2909                 #rprint('Running code', repr(code_obj)) # dbg\n-> 2910                 exec(code_obj, self.user_global_ns, self.user_ns)\n        code_obj = <code object <module> at 0x7f7de9316a50, file \"<ipython-input-60-51b06374c5cb>\", line 1>\n        self.user_global_ns = {'DecisionTreeClassifier': <class 'sklearn.tree.tree.DecisionTreeClassifier'>, 'GridSearchCV': <class 'sklearn.model_selection._search.GridSearchCV'>, 'In': ['', \"import pandas as pd\\nimport numpy as np\\nimport ma...line')\\n\\npd.set_option('display.max_colwidth', -1)\", \"daily_spotify = pd.read_csv('./data/data.csv')\\nd...e', 'artist', 'streams', 'url', 'date', 'region']\", 'print(daily_spotify.shape)\\nprint(daily_spotify.dtypes)', 'daily_spotify.head()', \"# keep only chart data from 2017\\n#daily_spotify ...y_spotify[(daily_spotify['date'] < '2018-01-01')]\", \"daily_spotify['url'].nunique()\", \"daily_spotify['region'].unique()\", \"#df = daily_spotify.groupby(['track_name', 'artist'])['region'].unique().to_frame()\", '#mlb = MultiLabelBinarizer()\\n#df = df.join(pd.Da...ses_,\\n#                          index=df.index))', \"#daily_spotify.groupby(['track_name', 'artist'])['streams'].apply(sum).to_frame()\", \"df_streams_by_country = daily_spotify.groupby(['...ition', 'date'], as_index=False)['streams'].sum()\", 'df_streams_by_country.head(n=10)', \"df = df_streams_by_country.pivot_table(index=['t...on', values='streams', aggfunc=sum, fill_value=0)\", 'df.reset_index(level=[0,1], inplace=True)', \"df['track_name_by_artist'] = df.track_name.str.cat(df.artist, sep=' ')\", \"df.drop(['track_name', 'artist'], axis=1, inplace=True)\", 'labels, levels = pd.factorize(df.track_name_by_artist)', \"df_streams_by_country['top10'] = np.where(df_streams_by_country['position'] <= 10, 1, 0)\", \"df_streams_by_country['top10'].value_counts()\", ...], 'KNeighborsClassifier': <class 'sklearn.neighbors.classification.KNeighborsClassifier'>, 'LinearSVC': <class 'sklearn.svm.classes.LinearSVC'>, 'LogisticRegression': <class 'sklearn.linear_model.logistic.LogisticRegression'>, 'MultiLabelBinarizer': <class 'sklearn.preprocessing.label.MultiLabelBinarizer'>, 'Out': {4:    position                  track_name         ...track/6rQSrBHf7HlZjtcMZ4S4bO  2017-01-01  ec     , 6: 21746, 7: array(['ec', 'fr', 'ar', 'fi', 'no', 'it', 'lt',...py', 'au', 'lv', 'gr', 'hk'],\n      dtype=object), 12:                                   track_name    ...8  2017-10-23  1458     \n9  2017-10-22  1310     , 19: 0    3244032\n1    196508 \nName: top10, dtype: int64, 23: 0    18576\n1    1346 \nName: top10, dtype: int64, 25:    top10\n0  0    \n1  0    \n2  0    \n3  0    \n4  0    , 26: region  ar  at  au     be  bo  br  ca  ch  cl  c...                          \n\n[5 rows x 55 columns], 28: region                                          ...      403591  0   0   0   \n\n[5 rows x 54 columns], 30: 0        0\n1        0\n2        0\n3        0\n4   ...921    0\nName: top10, Length: 19922, dtype: int64, ...}, 'Pipeline': <class 'imblearn.pipeline.Pipeline'>, 'SMOTE': <class 'imblearn.over_sampling.smote.SMOTE'>, ...}\n        self.user_ns = {'DecisionTreeClassifier': <class 'sklearn.tree.tree.DecisionTreeClassifier'>, 'GridSearchCV': <class 'sklearn.model_selection._search.GridSearchCV'>, 'In': ['', \"import pandas as pd\\nimport numpy as np\\nimport ma...line')\\n\\npd.set_option('display.max_colwidth', -1)\", \"daily_spotify = pd.read_csv('./data/data.csv')\\nd...e', 'artist', 'streams', 'url', 'date', 'region']\", 'print(daily_spotify.shape)\\nprint(daily_spotify.dtypes)', 'daily_spotify.head()', \"# keep only chart data from 2017\\n#daily_spotify ...y_spotify[(daily_spotify['date'] < '2018-01-01')]\", \"daily_spotify['url'].nunique()\", \"daily_spotify['region'].unique()\", \"#df = daily_spotify.groupby(['track_name', 'artist'])['region'].unique().to_frame()\", '#mlb = MultiLabelBinarizer()\\n#df = df.join(pd.Da...ses_,\\n#                          index=df.index))', \"#daily_spotify.groupby(['track_name', 'artist'])['streams'].apply(sum).to_frame()\", \"df_streams_by_country = daily_spotify.groupby(['...ition', 'date'], as_index=False)['streams'].sum()\", 'df_streams_by_country.head(n=10)', \"df = df_streams_by_country.pivot_table(index=['t...on', values='streams', aggfunc=sum, fill_value=0)\", 'df.reset_index(level=[0,1], inplace=True)', \"df['track_name_by_artist'] = df.track_name.str.cat(df.artist, sep=' ')\", \"df.drop(['track_name', 'artist'], axis=1, inplace=True)\", 'labels, levels = pd.factorize(df.track_name_by_artist)', \"df_streams_by_country['top10'] = np.where(df_streams_by_country['position'] <= 10, 1, 0)\", \"df_streams_by_country['top10'].value_counts()\", ...], 'KNeighborsClassifier': <class 'sklearn.neighbors.classification.KNeighborsClassifier'>, 'LinearSVC': <class 'sklearn.svm.classes.LinearSVC'>, 'LogisticRegression': <class 'sklearn.linear_model.logistic.LogisticRegression'>, 'MultiLabelBinarizer': <class 'sklearn.preprocessing.label.MultiLabelBinarizer'>, 'Out': {4:    position                  track_name         ...track/6rQSrBHf7HlZjtcMZ4S4bO  2017-01-01  ec     , 6: 21746, 7: array(['ec', 'fr', 'ar', 'fi', 'no', 'it', 'lt',...py', 'au', 'lv', 'gr', 'hk'],\n      dtype=object), 12:                                   track_name    ...8  2017-10-23  1458     \n9  2017-10-22  1310     , 19: 0    3244032\n1    196508 \nName: top10, dtype: int64, 23: 0    18576\n1    1346 \nName: top10, dtype: int64, 25:    top10\n0  0    \n1  0    \n2  0    \n3  0    \n4  0    , 26: region  ar  at  au     be  bo  br  ca  ch  cl  c...                          \n\n[5 rows x 55 columns], 28: region                                          ...      403591  0   0   0   \n\n[5 rows x 54 columns], 30: 0        0\n1        0\n2        0\n3        0\n4   ...921    0\nName: top10, Length: 19922, dtype: int64, ...}, 'Pipeline': <class 'imblearn.pipeline.Pipeline'>, 'SMOTE': <class 'imblearn.over_sampling.smote.SMOTE'>, ...}\n   2911             finally:\n   2912                 # Reset our crash handler in place\n   2913                 sys.excepthook = old_excepthook\n   2914         except SystemExit as e:\n\n...........................................................................\n/home/aaron/dev/CSc177/spotify-charts/<ipython-input-60-51b06374c5cb> in <module>()\n----> 1 knn_grid_search_cv.fit(X_train_scaled, y_train)\n\n...........................................................................\n/home/aaron/.virtualenvs/CSc177/lib/python3.5/site-packages/sklearn/model_selection/_search.py in fit(self=GridSearchCV(cv=5, error_score='raise',\n       e...='warn',\n       scoring='f1_weighted', verbose=1), X=array([[-0.09733547, -0.117291  , -0.11123174, .... -0.03722762,\n        -0.11748239, -0.09951198]]), y=19050    0\n17662    0\n17878    0\n7365     0\n8242...795    0\nName: top10, Length: 15937, dtype: int64, groups=None, **fit_params={})\n    634                                   return_train_score=self.return_train_score,\n    635                                   return_n_test_samples=True,\n    636                                   return_times=True, return_parameters=False,\n    637                                   error_score=self.error_score)\n    638           for parameters, (train, test) in product(candidate_params,\n--> 639                                                    cv.split(X, y, groups)))\n        cv.split = <bound method StratifiedKFold.split of Stratifie...ld(n_splits=5, random_state=None, shuffle=False)>\n        X = array([[-0.09733547, -0.117291  , -0.11123174, .... -0.03722762,\n        -0.11748239, -0.09951198]])\n        y = 19050    0\n17662    0\n17878    0\n7365     0\n8242...795    0\nName: top10, Length: 15937, dtype: int64\n        groups = None\n    640 \n    641         # if one choose to see train score, \"out\" will contain train score info\n    642         if self.return_train_score:\n    643             (train_score_dicts, test_score_dicts, test_sample_counts, fit_time,\n\n...........................................................................\n/home/aaron/.virtualenvs/CSc177/lib/python3.5/site-packages/sklearn/externals/joblib/parallel.py in __call__(self=Parallel(n_jobs=-1), iterable=<generator object BaseSearchCV.fit.<locals>.<genexpr>>)\n    784             if pre_dispatch == \"all\" or n_jobs == 1:\n    785                 # The iterable was consumed all at once by the above for loop.\n    786                 # No need to wait for async callbacks to trigger to\n    787                 # consumption.\n    788                 self._iterating = False\n--> 789             self.retrieve()\n        self.retrieve = <bound method Parallel.retrieve of Parallel(n_jobs=-1)>\n    790             # Make sure that we get a last message telling us we are done\n    791             elapsed_time = time.time() - self._start_time\n    792             self._print('Done %3i out of %3i | elapsed: %s finished',\n    793                         (len(self._output), len(self._output),\n\n---------------------------------------------------------------------------\nSub-process traceback:\n---------------------------------------------------------------------------\nValueError                                         Wed Apr 25 20:52:39 2018\nPID: 7230         Python 3.5.3: /home/aaron/.virtualenvs/CSc177/bin/python3\n...........................................................................\n/home/aaron/.virtualenvs/CSc177/lib/python3.5/site-packages/sklearn/externals/joblib/parallel.py in __call__(self=<sklearn.externals.joblib.parallel.BatchedCalls object>)\n    126     def __init__(self, iterator_slice):\n    127         self.items = list(iterator_slice)\n    128         self._size = len(self.items)\n    129 \n    130     def __call__(self):\n--> 131         return [func(*args, **kwargs) for func, args, kwargs in self.items]\n        self.items = [(<function _fit_and_score>, (Pipeline(memory=None,\n     steps=[('smoteenn', S...ighbors=1, p=1,\n           weights='distance'))]), memmap([[-0.09733547, -0.117291  , -0.11123174, ...-0.03722762,\n         -0.11748239, -0.09951198]]), 19050    0\n17662    0\n17878    0\n7365     0\n8242...795    0\nName: top10, Length: 15937, dtype: int64, {'score': make_scorer(f1_score, pos_label=None, average=weighted)}, array([ 3175,  3176,  3178, ..., 15934, 15935, 15936]), array([   0,    1,    2, ..., 3376, 3384, 3404]), 1, {'n_neighbors': 1}), {'error_score': 'raise', 'fit_params': {}, 'return_n_test_samples': True, 'return_parameters': False, 'return_times': True, 'return_train_score': 'warn'})]\n    132 \n    133     def __len__(self):\n    134         return self._size\n    135 \n\n...........................................................................\n/home/aaron/.virtualenvs/CSc177/lib/python3.5/site-packages/sklearn/externals/joblib/parallel.py in <listcomp>(.0=<list_iterator object>)\n    126     def __init__(self, iterator_slice):\n    127         self.items = list(iterator_slice)\n    128         self._size = len(self.items)\n    129 \n    130     def __call__(self):\n--> 131         return [func(*args, **kwargs) for func, args, kwargs in self.items]\n        func = <function _fit_and_score>\n        args = (Pipeline(memory=None,\n     steps=[('smoteenn', S...ighbors=1, p=1,\n           weights='distance'))]), memmap([[-0.09733547, -0.117291  , -0.11123174, ...-0.03722762,\n         -0.11748239, -0.09951198]]), 19050    0\n17662    0\n17878    0\n7365     0\n8242...795    0\nName: top10, Length: 15937, dtype: int64, {'score': make_scorer(f1_score, pos_label=None, average=weighted)}, array([ 3175,  3176,  3178, ..., 15934, 15935, 15936]), array([   0,    1,    2, ..., 3376, 3384, 3404]), 1, {'n_neighbors': 1})\n        kwargs = {'error_score': 'raise', 'fit_params': {}, 'return_n_test_samples': True, 'return_parameters': False, 'return_times': True, 'return_train_score': 'warn'}\n    132 \n    133     def __len__(self):\n    134         return self._size\n    135 \n\n...........................................................................\n/home/aaron/.virtualenvs/CSc177/lib/python3.5/site-packages/sklearn/model_selection/_validation.py in _fit_and_score(estimator=Pipeline(memory=None,\n     steps=[('smoteenn', S...ighbors=1, p=1,\n           weights='distance'))]), X=memmap([[-0.09733547, -0.117291  , -0.11123174, ...-0.03722762,\n         -0.11748239, -0.09951198]]), y=19050    0\n17662    0\n17878    0\n7365     0\n8242...795    0\nName: top10, Length: 15937, dtype: int64, scorer={'score': make_scorer(f1_score, pos_label=None, average=weighted)}, train=array([ 3175,  3176,  3178, ..., 15934, 15935, 15936]), test=array([   0,    1,    2, ..., 3376, 3384, 3404]), verbose=1, parameters={'n_neighbors': 1}, fit_params={}, return_train_score='warn', return_parameters=False, return_n_test_samples=True, return_times=True, error_score='raise')\n    439                       for k, v in fit_params.items()])\n    440 \n    441     test_scores = {}\n    442     train_scores = {}\n    443     if parameters is not None:\n--> 444         estimator.set_params(**parameters)\n        estimator.set_params = <bound method Pipeline.set_params of Pipeline(me...ghbors=1, p=1,\n           weights='distance'))])>\n        parameters = {'n_neighbors': 1}\n    445 \n    446     start_time = time.time()\n    447 \n    448     X_train, y_train = _safe_split(estimator, X, y, train)\n\n...........................................................................\n/home/aaron/.virtualenvs/CSc177/lib/python3.5/site-packages/sklearn/pipeline.py in set_params(self=Pipeline(memory=None,\n     steps=[('smoteenn', S...ighbors=1, p=1,\n           weights='distance'))]), **kwargs={'n_neighbors': 1})\n    137 \n    138         Returns\n    139         -------\n    140         self\n    141         \"\"\"\n--> 142         self._set_params('steps', **kwargs)\n        self._set_params = <bound method _BaseComposition._set_params of Pi...ghbors=1, p=1,\n           weights='distance'))])>\n        kwargs = {'n_neighbors': 1}\n    143         return self\n    144 \n    145     def _validate_steps(self):\n    146         names, estimators = zip(*self.steps)\n\n...........................................................................\n/home/aaron/.virtualenvs/CSc177/lib/python3.5/site-packages/sklearn/utils/metaestimators.py in _set_params(self=Pipeline(memory=None,\n     steps=[('smoteenn', S...ighbors=1, p=1,\n           weights='distance'))]), attr='steps', **params={'n_neighbors': 1})\n     44         names, _ = zip(*getattr(self, attr))\n     45         for name in list(six.iterkeys(params)):\n     46             if '__' not in name and name in names:\n     47                 self._replace_estimator(attr, name, params.pop(name))\n     48         # 3. Step parameters and other initilisation arguments\n---> 49         super(_BaseComposition, self).set_params(**params)\n        self.set_params = <bound method Pipeline.set_params of Pipeline(me...ghbors=1, p=1,\n           weights='distance'))])>\n        params = {'n_neighbors': 1}\n     50         return self\n     51 \n     52     def _replace_estimator(self, attr, name, new_val):\n     53         # assumes `name` is a valid estimator name\n\n...........................................................................\n/home/aaron/.virtualenvs/CSc177/lib/python3.5/site-packages/sklearn/base.py in set_params(self=Pipeline(memory=None,\n     steps=[('smoteenn', S...ighbors=1, p=1,\n           weights='distance'))]), **params={'n_neighbors': 1})\n    269             key, delim, sub_key = key.partition('__')\n    270             if key not in valid_params:\n    271                 raise ValueError('Invalid parameter %s for estimator %s. '\n    272                                  'Check the list of available parameters '\n    273                                  'with `estimator.get_params().keys()`.' %\n--> 274                                  (key, self))\n        key = 'n_neighbors'\n        self = Pipeline(memory=None,\n     steps=[('smoteenn', S...ighbors=1, p=1,\n           weights='distance'))])\n    275 \n    276             if delim:\n    277                 nested_params[key][sub_key] = value\n    278             else:\n\nValueError: Invalid parameter n_neighbors for estimator Pipeline(memory=None,\n     steps=[('smoteenn', SMOTEENN(enn=None, k=None, kind_enn=None, kind_smote=None, m=None,\n     n_jobs=None, n_neighbors=None, out_step=None, random_state=None,\n     ratio='auto', size_ngh=None,\n     smote=SMOTE(k=None, k_neighbors=5, kind='regular', m=None, m_neighbors=10, n_jobs=1,\n   out_step=0.5, ra...wski',\n           metric_params=None, n_jobs=1, n_neighbors=1, p=1,\n           weights='distance'))]). Check the list of available parameters with `estimator.get_params().keys()`.\n___________________________________________________________________________"
     ]
    }
   ],
   "source": [
    "knn_grid_search_cv.fit(X_train_scaled, y_train)"
   ]
  },
  {
   "cell_type": "code",
   "execution_count": 65,
   "metadata": {},
   "outputs": [
    {
     "name": "stderr",
     "output_type": "stream",
     "text": [
      "/home/aaron/.virtualenvs/CSc177/lib/python3.5/site-packages/sklearn/utils/deprecation.py:77: DeprecationWarning: Function _ratio_float is deprecated; Use a float for 'ratio' is deprecated from version 0.2. The support will be removed in 0.4. Use a dict, str, or a callable instead.\n",
      "  warnings.warn(msg, category=DeprecationWarning)\n"
     ]
    }
   ],
   "source": [
    "sm = SMOTE(random_state=12, ratio = 1.0)\n",
    "x_train_res, y_train_res = sm.fit_sample(X_train_scaled, y_train)"
   ]
  },
  {
   "cell_type": "code",
   "execution_count": 64,
   "metadata": {},
   "outputs": [
    {
     "data": {
      "text/plain": [
       "RandomForestClassifier(bootstrap=True, class_weight=None, criterion='gini',\n",
       "            max_depth=None, max_features='auto', max_leaf_nodes=None,\n",
       "            min_impurity_decrease=0.0, min_impurity_split=None,\n",
       "            min_samples_leaf=1, min_samples_split=2,\n",
       "            min_weight_fraction_leaf=0.0, n_estimators=25, n_jobs=1,\n",
       "            oob_score=False, random_state=12, verbose=0, warm_start=False)"
      ]
     },
     "execution_count": 64,
     "metadata": {},
     "output_type": "execute_result"
    }
   ],
   "source": [
    "clf_rf = RandomForestClassifier(n_estimators=25, random_state=12)\n",
    "clf_rf.fit(x_train_res, y_train_res)"
   ]
  },
  {
   "cell_type": "code",
   "execution_count": 66,
   "metadata": {},
   "outputs": [],
   "source": [
    "y_pred = clf_rf.predict(X_test_scaled)"
   ]
  },
  {
   "cell_type": "code",
   "execution_count": 67,
   "metadata": {},
   "outputs": [
    {
     "name": "stdout",
     "output_type": "stream",
     "text": [
      "Random Forest classification results\n",
      "\n",
      " F1-Score \n",
      " 0.07746478873239436\n",
      "\n",
      " Precision \n",
      " 1.0\n",
      "\n",
      " Recall \n",
      " 0.040293040293040296\n",
      "\n",
      " Confusion Matrix \n",
      " [[3712    0]\n",
      " [ 262   11]]\n"
     ]
    }
   ],
   "source": [
    "print(\"Random Forest classification results\")\n",
    "print(\"\\n F1-Score \\n\", metrics.f1_score(y_test, y_pred))\n",
    "print(\"\\n Precision \\n\", metrics.precision_score(y_test, y_pred))\n",
    "print(\"\\n Recall \\n\", metrics.recall_score(y_test, y_pred))\n",
    "print(\"\\n Confusion Matrix \\n\", metrics.confusion_matrix(y_test, y_pred))"
   ]
  },
  {
   "cell_type": "code",
   "execution_count": 109,
   "metadata": {},
   "outputs": [
    {
     "data": {
      "text/plain": [
       "GridSearchCV(cv=StratifiedKFold(n_splits=3, random_state=None, shuffle=False),\n",
       "       error_score='raise',\n",
       "       estimator=Pipeline(memory=None,\n",
       "     steps=[('oversample', SMOTE(k=None, k_neighbors=5, kind='regular', m=None, m_neighbors=10, n_jobs=1,\n",
       "   out_step=0.5, random_state=444, ratio='auto', svm_estimator=None)), ('clf', KNeighborsClassifier(algorithm='auto', leaf_size=30, metric='minkowski',\n",
       "           metric_params=None, n_jobs=1, n_neighbors=1, p=1,\n",
       "           weights='distance'))]),\n",
       "       fit_params=None, iid=True, n_jobs=-1,\n",
       "       param_grid={'clf__n_neighbors': [1, 2, 3, 4, 5, 6, 7, 8, 9, 10, 11, 12, 13, 14, 15, 16, 17, 18, 19]},\n",
       "       pre_dispatch='2*n_jobs', refit=True, return_train_score=False,\n",
       "       scoring='roc_auc', verbose=0)"
      ]
     },
     "execution_count": 109,
     "metadata": {},
     "output_type": "execute_result"
    }
   ],
   "source": [
    "pipe = Pipeline([\n",
    "    ('oversample', SMOTE(random_state=444)),\n",
    "    ('clf', knn)\n",
    "    ])\n",
    "\n",
    "skf = StratifiedKFold()\n",
    "param_grid = {'clf__n_neighbors': k_range}\n",
    "grid = GridSearchCV(pipe, param_grid, return_train_score=False,\n",
    "                    n_jobs=-1, scoring='roc_auc', cv=skf)\n",
    "grid.fit(X_train, y_train)"
   ]
  },
  {
   "cell_type": "code",
   "execution_count": 110,
   "metadata": {},
   "outputs": [
    {
     "name": "stdout",
     "output_type": "stream",
     "text": [
      "0.9459412520404455\n",
      "{'clf__n_neighbors': 19}\n",
      "Pipeline(memory=None,\n",
      "     steps=[('oversample', SMOTE(k=None, k_neighbors=5, kind='regular', m=None, m_neighbors=10, n_jobs=1,\n",
      "   out_step=0.5, random_state=444, ratio='auto', svm_estimator=None)), ('clf', KNeighborsClassifier(algorithm='auto', leaf_size=30, metric='minkowski',\n",
      "           metric_params=None, n_jobs=1, n_neighbors=19, p=1,\n",
      "           weights='distance'))])\n"
     ]
    }
   ],
   "source": [
    "print(grid.best_score_)\n",
    "print(grid.best_params_)\n",
    "print(grid.best_estimator_)"
   ]
  },
  {
   "cell_type": "code",
   "execution_count": 111,
   "metadata": {},
   "outputs": [
    {
     "name": "stdout",
     "output_type": "stream",
     "text": [
      "k-Nearest Neighbors classification results\n",
      "\n",
      " F1-Score \n",
      " 0.0\n",
      "\n",
      " Precision \n",
      " 0.0\n",
      "\n",
      " Recall \n",
      " 0.0\n",
      "\n",
      " Confusion Matrix \n",
      " [[3712    0]\n",
      " [ 273    0]]\n"
     ]
    },
    {
     "name": "stderr",
     "output_type": "stream",
     "text": [
      "/home/aaron/.virtualenvs/CSc177/lib/python3.5/site-packages/sklearn/metrics/classification.py:1135: UndefinedMetricWarning: F-score is ill-defined and being set to 0.0 due to no predicted samples.\n",
      "  'precision', 'predicted', average, warn_for)\n",
      "/home/aaron/.virtualenvs/CSc177/lib/python3.5/site-packages/sklearn/metrics/classification.py:1135: UndefinedMetricWarning: Precision is ill-defined and being set to 0.0 due to no predicted samples.\n",
      "  'precision', 'predicted', average, warn_for)\n"
     ]
    }
   ],
   "source": [
    "y_pred = grid.predict(X_test_scaled)\n",
    "print(\"k-Nearest Neighbors classification results\")\n",
    "print(\"\\n F1-Score \\n\", metrics.f1_score(y_test, y_pred))\n",
    "print(\"\\n Precision \\n\", metrics.precision_score(y_test, y_pred))\n",
    "print(\"\\n Recall \\n\", metrics.recall_score(y_test, y_pred))\n",
    "print(\"\\n Confusion Matrix \\n\", metrics.confusion_matrix(y_test, y_pred))"
   ]
  },
  {
   "cell_type": "code",
   "execution_count": null,
   "metadata": {},
   "outputs": [],
   "source": []
  }
 ],
 "metadata": {
  "kernelspec": {
   "display_name": "Python 3",
   "language": "python",
   "name": "python3"
  },
  "language_info": {
   "codemirror_mode": {
    "name": "ipython",
    "version": 3
   },
   "file_extension": ".py",
   "mimetype": "text/x-python",
   "name": "python",
   "nbconvert_exporter": "python",
   "pygments_lexer": "ipython3",
   "version": "3.5.3"
  }
 },
 "nbformat": 4,
 "nbformat_minor": 2
}
